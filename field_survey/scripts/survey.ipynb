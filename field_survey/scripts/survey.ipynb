{
 "cells": [
  {
   "cell_type": "markdown",
   "metadata": {},
   "source": [
    "# Standardize survey data"
   ]
  },
  {
   "cell_type": "code",
   "execution_count": 1,
   "metadata": {},
   "outputs": [],
   "source": [
    "import sqlite3\n",
    "import pandas as pd\n",
    "from pandas import ExcelFile\n",
    "\n",
    "SURVEY_DATA_COLUMNS=['species','latitude','longitude','phase','presence','magnitude']"
   ]
  },
  {
   "cell_type": "markdown",
   "metadata": {},
   "source": [
    "## Input and output"
   ]
  },
  {
   "cell_type": "code",
   "execution_count": 2,
   "metadata": {},
   "outputs": [],
   "source": [
    "DB='../output/survey.sqlite'\n",
    "PHASE_ONE='../../data/field_survey/field_report_2019-06-11_phase1.xlsx'\n",
    "PHASE_TWO=''"
   ]
  },
  {
   "cell_type": "markdown",
   "metadata": {},
   "source": [
    "## Initiating dataframe\n",
    "Mandatory column names for database (more can be added): `index,species,latitude,longitude,presence`"
   ]
  },
  {
   "cell_type": "code",
   "execution_count": 3,
   "metadata": {},
   "outputs": [],
   "source": [
    "surveyData=pd.DataFrame(columns=SURVEY_DATA_COLUMNS)"
   ]
  },
  {
   "cell_type": "markdown",
   "metadata": {},
   "source": [
    "## Phase 1\n",
    "Processing one sheet at a time. The below function reads in a sheet and modifies columns."
   ]
  },
  {
   "cell_type": "code",
   "execution_count": 4,
   "metadata": {},
   "outputs": [],
   "source": [
    "def process_phase_one_sheet(sheetName):\n",
    "    df=pd.read_excel(PHASE_ONE,sheet_name=sheetName)\n",
    "    df.columns=map(str.lower,df.columns)\n",
    "    return df"
   ]
  },
  {
   "cell_type": "markdown",
   "metadata": {},
   "source": [
    "### Lantana camara"
   ]
  },
  {
   "cell_type": "code",
   "execution_count": 5,
   "metadata": {},
   "outputs": [
    {
     "data": {
      "text/plain": [
       "(538, 6)"
      ]
     },
     "execution_count": 5,
     "metadata": {},
     "output_type": "execute_result"
    }
   ],
   "source": [
    "df=process_phase_one_sheet('Lentena')\n",
    "df=df[['latitude','longitude','magnitude']]\n",
    "df['species']='Lantana camara'\n",
    "df['presence']=(df['magnitude']!='Absent') | (df['magnitude']!='')\n",
    "df.to_csv('lantana.csv')\n",
    "surveyData=surveyData.append(df,sort=True)\n",
    "surveyData.shape"
   ]
  },
  {
   "cell_type": "markdown",
   "metadata": {},
   "source": [
    "### Chromolaena odorata"
   ]
  },
  {
   "cell_type": "code",
   "execution_count": 6,
   "metadata": {},
   "outputs": [
    {
     "data": {
      "text/plain": [
       "(659, 6)"
      ]
     },
     "execution_count": 6,
     "metadata": {},
     "output_type": "execute_result"
    }
   ],
   "source": [
    "df=process_phase_one_sheet('Chromoleana')\n",
    "df=df[['latitude','longitude','magnitude']]\n",
    "df['species']='Chromolaena odorata'\n",
    "df['presence']=(df['magnitude']!='Absent') | (df['magnitude']!='')\n",
    "surveyData=surveyData.append(df,sort=True)\n",
    "surveyData.shape"
   ]
  },
  {
   "cell_type": "markdown",
   "metadata": {},
   "source": [
    "###  Ipomoea carnea"
   ]
  },
  {
   "cell_type": "code",
   "execution_count": 7,
   "metadata": {},
   "outputs": [
    {
     "data": {
      "text/plain": [
       "(947, 6)"
      ]
     },
     "execution_count": 7,
     "metadata": {},
     "output_type": "execute_result"
    }
   ],
   "source": [
    "df=process_phase_one_sheet('Ipomea')\n",
    "df=df[['latitude','longitude','magnitude']]\n",
    "df['species']='Ipomoea carnea'\n",
    "df['presence']=(df['magnitude']!='Absent') | (df['magnitude']!='')\n",
    "surveyData=surveyData.append(df,sort=True)\n",
    "surveyData.shape"
   ]
  },
  {
   "cell_type": "markdown",
   "metadata": {},
   "source": [
    "### Mikania micrantha"
   ]
  },
  {
   "cell_type": "code",
   "execution_count": 8,
   "metadata": {},
   "outputs": [
    {
     "data": {
      "text/plain": [
       "(1063, 6)"
      ]
     },
     "execution_count": 8,
     "metadata": {},
     "output_type": "execute_result"
    }
   ],
   "source": [
    "df=process_phase_one_sheet('Mikeniea')\n",
    "df=df[['latitude','longitude','magnitude']]\n",
    "df['species']='Mikania micrantha'\n",
    "df['presence']=(df['magnitude']!='Absent') | (df['magnitude']!='')\n",
    "surveyData=surveyData.append(df,sort=True)\n",
    "surveyData.shape"
   ]
  },
  {
   "cell_type": "markdown",
   "metadata": {},
   "source": [
    "### Ageratina adenophora"
   ]
  },
  {
   "cell_type": "code",
   "execution_count": 9,
   "metadata": {},
   "outputs": [
    {
     "data": {
      "text/plain": [
       "(1606, 6)"
      ]
     },
     "execution_count": 9,
     "metadata": {},
     "output_type": "execute_result"
    }
   ],
   "source": [
    "df=process_phase_one_sheet('Ageratina')\n",
    "df=df[['latitude','longitude','magnitude']]\n",
    "df['species']='Ageratina adenophora'\n",
    "df['presence']=(df['magnitude']!='Absent') | (df['magnitude']!='')\n",
    "surveyData=surveyData.append(df,sort=True)\n",
    "surveyData.shape"
   ]
  },
  {
   "cell_type": "markdown",
   "metadata": {},
   "source": [
    "### Parthenium hysterophorus"
   ]
  },
  {
   "cell_type": "code",
   "execution_count": 10,
   "metadata": {
    "scrolled": true
   },
   "outputs": [
    {
     "data": {
      "text/plain": [
       "(1986, 6)"
      ]
     },
     "execution_count": 10,
     "metadata": {},
     "output_type": "execute_result"
    }
   ],
   "source": [
    "df=process_phase_one_sheet('Parthenium')\n",
    "df=df[['latitude','longitude','magnitude','presence_absence']]\n",
    "df['species']='Parthenium hysterophorus'\n",
    "df['presence']=df['presence_absence']=='Presence'\n",
    "df=df.drop(['presence_absence'],axis=1)\n",
    "surveyData=surveyData.append(df,sort=True)\n",
    "surveyData.shape"
   ]
  },
  {
   "cell_type": "markdown",
   "metadata": {},
   "source": [
    "### Eichhornia crassipes"
   ]
  },
  {
   "cell_type": "code",
   "execution_count": 11,
   "metadata": {},
   "outputs": [
    {
     "data": {
      "text/plain": [
       "(2048, 6)"
      ]
     },
     "execution_count": 11,
     "metadata": {},
     "output_type": "execute_result"
    }
   ],
   "source": [
    "df=process_phase_one_sheet('Eichorniea')\n",
    "df=df[['x_coordi','y_coordi','magnitude']]\n",
    "df.columns=['latitude','longitude','magnitude']\n",
    "df['species']='Eichhornia crassipes'\n",
    "df['presence']=(df['magnitude']!='Absent') | (df['magnitude']!='')\n",
    "surveyData=surveyData.append(df,sort=True)\n",
    "surveyData.shape"
   ]
  },
  {
   "cell_type": "markdown",
   "metadata": {},
   "source": [
    "## Assign phase"
   ]
  },
  {
   "cell_type": "code",
   "execution_count": 12,
   "metadata": {},
   "outputs": [],
   "source": [
    "surveyData['phase']=1"
   ]
  },
  {
   "cell_type": "markdown",
   "metadata": {},
   "source": [
    "## Push to database\n",
    "Assumes that the database has the following table:\n",
    "```\n",
    "CREATE TABLE \"survey\" (\n",
    "\t\"species\"\tTEXT,\n",
    "\t\"latitude\"\tREAL,\n",
    "\t\"longitude\"\tREAL,\n",
    "    \"phase\"\tINTEGER,\n",
    "\t\"presence\"\tINTEGER,\n",
    "\t\"magnitude\"\tTEXT,\n",
    "\tPRIMARY KEY(\"species\",\"latitude\",\"longitude\",\"phase\")\n",
    ");\n",
    "```"
   ]
  },
  {
   "cell_type": "code",
   "execution_count": 16,
   "metadata": {},
   "outputs": [
    {
     "data": {
      "text/plain": [
       "[(1905,)]"
      ]
     },
     "execution_count": 16,
     "metadata": {},
     "output_type": "execute_result"
    }
   ],
   "source": [
    "conn = sqlite3.connect(DB)\n",
    "surveyData.to_sql('temporary_table',conn,if_exists='replace')\n",
    "cur=conn.cursor()\n",
    "cur.execute('INSERT OR IGNORE INTO survey SELECT ' + ','.join(SURVEY_DATA_COLUMNS) + ' FROM temporary_table;')\n",
    "cur.execute('SELECT count(*) FROM survey;')\n",
    "numRows=cur.fetchall()\n",
    "cur.execute('DROP TABLE temporary_table;')\n",
    "conn.commit()\n",
    "conn.close()\n",
    "\n",
    "print(\"Number of rows in database: %d\" %numRows)\n",
    "print(\"Number of rows in dataframe: %d\" %surveyData.shape[0])"
   ]
  }
 ],
 "metadata": {
  "kernelspec": {
   "display_name": "Python 3",
   "language": "python",
   "name": "python3"
  },
  "language_info": {
   "codemirror_mode": {
    "name": "ipython",
    "version": 3
   },
   "file_extension": ".py",
   "mimetype": "text/x-python",
   "name": "python",
   "nbconvert_exporter": "python",
   "pygments_lexer": "ipython3",
   "version": "3.7.3"
  }
 },
 "nbformat": 4,
 "nbformat_minor": 2
}
