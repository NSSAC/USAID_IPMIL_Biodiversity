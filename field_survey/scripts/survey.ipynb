{
 "cells": [
  {
   "cell_type": "markdown",
   "metadata": {},
   "source": [
    "# Standardize survey data"
   ]
  },
  {
   "cell_type": "code",
   "execution_count": 1,
   "metadata": {},
   "outputs": [],
   "source": [
    "import sqlite3\n",
    "import pandas as pd\n",
    "import numpy as np\n",
    "from pandas import ExcelFile\n",
    "\n",
    "SURVEY_DATA_COLUMNS=['species','latitude','longitude','phase','presence','magnitude']"
   ]
  },
  {
   "cell_type": "markdown",
   "metadata": {},
   "source": [
    "## Input and output"
   ]
  },
  {
   "cell_type": "code",
   "execution_count": 2,
   "metadata": {},
   "outputs": [],
   "source": [
    "DB='../output/survey.sqlite'\n",
    "PHASE_ONE='../../data/field_survey/field_report_2019-06-11_phase1.xlsx'\n",
    "PHASE_TWO='../../data/field_survey/field_report_2019-08-07_phase2.csv'"
   ]
  },
  {
   "cell_type": "markdown",
   "metadata": {},
   "source": [
    "## Initiating dataframe\n",
    "Mandatory column names for database (more can be added): `index,species,latitude,longitude,presence`"
   ]
  },
  {
   "cell_type": "code",
   "execution_count": 3,
   "metadata": {},
   "outputs": [],
   "source": [
    "surveyData=pd.DataFrame(columns=SURVEY_DATA_COLUMNS)"
   ]
  },
  {
   "cell_type": "markdown",
   "metadata": {},
   "source": [
    "The function `finalize()` below performs final cleaning up and appending to main dataframe."
   ]
  },
  {
   "cell_type": "code",
   "execution_count": 4,
   "metadata": {},
   "outputs": [],
   "source": [
    "def finalize(df,surveyData):\n",
    "    surveyData=pd.concat([surveyData,df],sort=True)\n",
    "    print(\"After appending to main dataframe: \",surveyData.shape)\n",
    "    return surveyData"
   ]
  },
  {
   "cell_type": "markdown",
   "metadata": {},
   "source": [
    "## Phase 1\n",
    "Processing one sheet at a time. The below function reads in a sheet and modifies columns.\n",
    "Then, we process each species individually. Note that there are a number of duplicate entries."
   ]
  },
  {
   "cell_type": "code",
   "execution_count": 5,
   "metadata": {},
   "outputs": [],
   "source": [
    "def process_phase_one_sheet(sheetName,speciesName):\n",
    "    df=pd.read_excel(PHASE_ONE,sheet_name=sheetName)\n",
    "    df.columns=map(str.lower,df.columns)\n",
    "    print(\"Original data shape: \",df.shape)\n",
    "    \n",
    "    if speciesName=='Parthenium hysterophorus':\n",
    "        df=df[['latitude','longitude','magnitude','presence_absence']]\n",
    "        df['presence']=df['presence_absence']=='Presence'\n",
    "        df=df.drop(['presence_absence'],axis=1)\n",
    "    elif speciesName=='Eichhornia crassipes':\n",
    "        df=df[['x_coordi','y_coordi','magnitude']]\n",
    "        df.columns=['latitude','longitude','magnitude']\n",
    "    else:\n",
    "        df=df[['latitude','longitude','magnitude']]\n",
    "    \n",
    "    df=df.drop_duplicates()\n",
    "    df=df[df.latitude!='Absent']\n",
    "    df=df[df.longitude!='Absent']\n",
    "    print(\"After dropping duplicates and extra columns: \",df.shape)\n",
    "    if speciesName=='Parthenium hysterophorus':\n",
    "        df.loc[df['magnitude'].isna(),'magnitude']='Not recorded.'\n",
    "    else:\n",
    "        df=df[~df['magnitude'].isna() & ~df['latitude'].isna() & ~df['longitude'].isna()]\n",
    "    print(\"After dropping rows with magnitude=NaN: \",df.shape)\n",
    "    df['presence']=(df['magnitude']!='Absent') | (df['magnitude']!='')\n",
    "    df['species']=speciesName\n",
    "    df['phase']=1\n",
    "\n",
    "    return df"
   ]
  },
  {
   "cell_type": "markdown",
   "metadata": {},
   "source": [
    "### Lantana camara"
   ]
  },
  {
   "cell_type": "code",
   "execution_count": 6,
   "metadata": {},
   "outputs": [
    {
     "name": "stdout",
     "output_type": "stream",
     "text": [
      "Original data shape:  (538, 12)\n",
      "After dropping duplicates and extra columns:  (514, 3)\n",
      "After dropping rows with magnitude=NaN:  (514, 3)\n",
      "After appending to main dataframe:  (514, 6)\n"
     ]
    },
    {
     "name": "stderr",
     "output_type": "stream",
     "text": [
      "//anaconda3/lib/python3.7/site-packages/pandas/core/ops.py:1649: FutureWarning: elementwise comparison failed; returning scalar instead, but in the future will perform elementwise comparison\n",
      "  result = method(y)\n"
     ]
    }
   ],
   "source": [
    "df=process_phase_one_sheet('Lentena','Lantana camara')\n",
    "surveyData=finalize(df,surveyData)"
   ]
  },
  {
   "cell_type": "markdown",
   "metadata": {},
   "source": [
    "### Chromolaena odorata"
   ]
  },
  {
   "cell_type": "code",
   "execution_count": 7,
   "metadata": {},
   "outputs": [
    {
     "name": "stdout",
     "output_type": "stream",
     "text": [
      "Original data shape:  (121, 12)\n",
      "After dropping duplicates and extra columns:  (120, 3)\n",
      "After dropping rows with magnitude=NaN:  (120, 3)\n",
      "After appending to main dataframe:  (634, 6)\n"
     ]
    }
   ],
   "source": [
    "df=process_phase_one_sheet('Chromoleana','Chromolaena odorata')\n",
    "surveyData=finalize(df,surveyData)"
   ]
  },
  {
   "cell_type": "markdown",
   "metadata": {},
   "source": [
    "###  Ipomoea carnea"
   ]
  },
  {
   "cell_type": "code",
   "execution_count": 8,
   "metadata": {},
   "outputs": [
    {
     "name": "stdout",
     "output_type": "stream",
     "text": [
      "Original data shape:  (288, 11)\n",
      "After dropping duplicates and extra columns:  (287, 3)\n",
      "After dropping rows with magnitude=NaN:  (286, 3)\n",
      "After appending to main dataframe:  (920, 6)\n"
     ]
    }
   ],
   "source": [
    "df=process_phase_one_sheet('Ipomea','Ipomoea carnea')\n",
    "surveyData=finalize(df,surveyData)"
   ]
  },
  {
   "cell_type": "markdown",
   "metadata": {},
   "source": [
    "### Mikania micrantha"
   ]
  },
  {
   "cell_type": "code",
   "execution_count": 9,
   "metadata": {},
   "outputs": [
    {
     "name": "stdout",
     "output_type": "stream",
     "text": [
      "Original data shape:  (116, 12)\n",
      "After dropping duplicates and extra columns:  (116, 3)\n",
      "After dropping rows with magnitude=NaN:  (115, 3)\n",
      "After appending to main dataframe:  (1035, 6)\n"
     ]
    }
   ],
   "source": [
    "df=process_phase_one_sheet('Mikeniea','Mikania micrantha')\n",
    "surveyData=finalize(df,surveyData)"
   ]
  },
  {
   "cell_type": "markdown",
   "metadata": {},
   "source": [
    "### Ageratina adenophora"
   ]
  },
  {
   "cell_type": "code",
   "execution_count": 10,
   "metadata": {},
   "outputs": [
    {
     "name": "stdout",
     "output_type": "stream",
     "text": [
      "Original data shape:  (543, 11)\n",
      "After dropping duplicates and extra columns:  (521, 3)\n",
      "After dropping rows with magnitude=NaN:  (520, 3)\n",
      "After appending to main dataframe:  (1555, 6)\n"
     ]
    }
   ],
   "source": [
    "df=process_phase_one_sheet('Ageratina','Ageratina adenophora')\n",
    "surveyData=finalize(df,surveyData)"
   ]
  },
  {
   "cell_type": "markdown",
   "metadata": {},
   "source": [
    "### Parthenium hysterophorus"
   ]
  },
  {
   "cell_type": "code",
   "execution_count": 11,
   "metadata": {
    "scrolled": true
   },
   "outputs": [
    {
     "name": "stdout",
     "output_type": "stream",
     "text": [
      "Original data shape:  (380, 12)\n",
      "After dropping duplicates and extra columns:  (335, 4)\n",
      "After dropping rows with magnitude=NaN:  (335, 4)\n",
      "After appending to main dataframe:  (1890, 6)\n"
     ]
    }
   ],
   "source": [
    "df=process_phase_one_sheet('Parthenium','Parthenium hysterophorus')\n",
    "surveyData=finalize(df,surveyData)"
   ]
  },
  {
   "cell_type": "markdown",
   "metadata": {},
   "source": [
    "### Eichhornia crassipes"
   ]
  },
  {
   "cell_type": "code",
   "execution_count": 12,
   "metadata": {},
   "outputs": [
    {
     "name": "stdout",
     "output_type": "stream",
     "text": [
      "Original data shape:  (62, 10)\n",
      "After dropping duplicates and extra columns:  (62, 3)\n",
      "After dropping rows with magnitude=NaN:  (51, 3)\n",
      "After appending to main dataframe:  (1941, 6)\n"
     ]
    }
   ],
   "source": [
    "df=process_phase_one_sheet('Eichorniea','Eichhornia crassipes')\n",
    "surveyData=finalize(df,surveyData)"
   ]
  },
  {
   "cell_type": "markdown",
   "metadata": {},
   "source": [
    "## Phase 2\n",
    "This is present in a single csv file."
   ]
  },
  {
   "cell_type": "code",
   "execution_count": 13,
   "metadata": {},
   "outputs": [
    {
     "name": "stdout",
     "output_type": "stream",
     "text": [
      "Original data shape (434, 5)\n",
      "After dropping rows with NaNs (431, 5)\n",
      "After appending to main dataframe:  (2372, 6)\n"
     ]
    },
    {
     "name": "stderr",
     "output_type": "stream",
     "text": [
      "//anaconda3/lib/python3.7/site-packages/pandas/core/generic.py:5096: SettingWithCopyWarning: \n",
      "A value is trying to be set on a copy of a slice from a DataFrame.\n",
      "Try using .loc[row_indexer,col_indexer] = value instead\n",
      "\n",
      "See the caveats in the documentation: http://pandas.pydata.org/pandas-docs/stable/indexing.html#indexing-view-versus-copy\n",
      "  self[name] = value\n"
     ]
    }
   ],
   "source": [
    "df=pd.read_csv(PHASE_TWO)\n",
    "df=df[['longitude','latitude','Species','Field  Validation status']]\n",
    "df.columns=['longitude','latitude','species','presence']\n",
    "df['presence']=df['presence']=='Present'\n",
    "df['phase']=2\n",
    "df.loc[df.species=='Lantana','species']='Lantana camara'\n",
    "df.loc[df.species=='lantana','species']='Lantana camara'\n",
    "df.loc[df.species=='Chromoleana','species']='Chromolaena odorata'\n",
    "df.loc[df.species=='Ipomea','species']='Ipomoea carnea'\n",
    "df.loc[df.species=='Mikania','species']='Mikania micrantha'\n",
    "df.loc[df.species=='Ageratina','species']='Ageratina adenophora'\n",
    "df.loc[df.species=='parthenium','species']='Parthenium hysterophorus'\n",
    "df.loc[df.species=='Parthenium','species']='Parthenium hysterophorus'\n",
    "dupl=df[df.species=='Parthenium/Lantana']\n",
    "dupl.species='Lantana camara'\n",
    "df.loc[df.species=='Parthenium/Lantana','species']='Parthenium hysterophorus'\n",
    "df=pd.concat([df,dupl],sort=True)\n",
    "\n",
    "# Absent columns\n",
    "dupl=df[(df.species=='Absent') | (df.species=='absent')]\n",
    "for sp in ['Lantana camara','Chromolaena odorata','Ipomoea carnea','Mikania micrantha','Ageratina adenophora','Parthenium hysterophorus']:\n",
    "    duplSp=dupl.copy()\n",
    "    duplSp.species=sp\n",
    "    df=pd.concat([df,duplSp],sort=True)\n",
    "\n",
    "df=df[(df.species!='Absent') & (df.species!='absent')]\n",
    "df.species.unique()\n",
    "print(\"Original data shape\",df.shape)\n",
    "df=df.dropna()\n",
    "print(\"After dropping rows with NaNs\", df.shape)\n",
    "surveyData=finalize(df,surveyData)"
   ]
  },
  {
   "cell_type": "markdown",
   "metadata": {},
   "source": [
    "## Push to database\n",
    "Assumes that the database has the following table:\n",
    "```\n",
    "CREATE TABLE \"survey\" (\n",
    "\t\"species\"\tTEXT,\n",
    "\t\"latitude\"\tREAL,\n",
    "\t\"longitude\"\tREAL,\n",
    "    \"phase\"\tINTEGER,\n",
    "\t\"presence\"\tINTEGER,\n",
    "\t\"magnitude\"\tTEXT,\n",
    "\tPRIMARY KEY(\"species\",\"latitude\",\"longitude\",\"phase\")\n",
    ");\n",
    "```"
   ]
  },
  {
   "cell_type": "code",
   "execution_count": 14,
   "metadata": {},
   "outputs": [],
   "source": [
    "conn = sqlite3.connect(DB)\n",
    "cur=conn.cursor()\n",
    "cur.execute('CREATE TABLE IF NOT EXISTS \"survey\" ( \\\n",
    "    \"species\"    TEXT, \\\n",
    "    \"latitude\"    REAL, \\\n",
    "    \"longitude\"    REAL, \\\n",
    "    \"phase\"    INTEGER, \\\n",
    "    \"presence\"    INTEGER, \\\n",
    "    \"magnitude\"    TEXT, \\\n",
    "    PRIMARY KEY(\"species\",\"latitude\",\"longitude\",\"phase\") \\\n",
    ");')\n",
    "surveyData.to_sql('temporary_table',conn,if_exists='replace')\n",
    "cur=conn.cursor()\n",
    "cur.execute('INSERT OR IGNORE INTO survey SELECT ' + ','.join(SURVEY_DATA_COLUMNS) + ' FROM temporary_table;')\n",
    "cur.execute('DROP TABLE temporary_table;')\n",
    "conn.commit()\n",
    "conn.close()"
   ]
  },
  {
   "cell_type": "markdown",
   "metadata": {},
   "source": [
    "## Verification\n",
    "### Distinct species list"
   ]
  },
  {
   "cell_type": "code",
   "execution_count": 15,
   "metadata": {},
   "outputs": [
    {
     "data": {
      "text/plain": [
       "[('Ageratina adenophora',),\n",
       " ('Chromolaena odorata',),\n",
       " ('Eichhornia crassipes',),\n",
       " ('Ipomoea carnea',),\n",
       " ('Lantana camara',),\n",
       " ('Mikania micrantha',),\n",
       " ('Parthenium hysterophorus',)]"
      ]
     },
     "execution_count": 15,
     "metadata": {},
     "output_type": "execute_result"
    }
   ],
   "source": [
    "conn = sqlite3.connect(DB)\n",
    "cur=conn.cursor()\n",
    "cur.execute('SELECT DISTINCT species from survey;')\n",
    "cur.fetchall()"
   ]
  },
  {
   "cell_type": "markdown",
   "metadata": {},
   "source": [
    "### Distinct values in 'presence' column"
   ]
  },
  {
   "cell_type": "code",
   "execution_count": 16,
   "metadata": {},
   "outputs": [
    {
     "data": {
      "text/plain": [
       "[(1,), (0,)]"
      ]
     },
     "execution_count": 16,
     "metadata": {},
     "output_type": "execute_result"
    }
   ],
   "source": [
    "cur.execute('SELECT DISTINCT presence from survey;')\n",
    "cur.fetchall()"
   ]
  },
  {
   "cell_type": "markdown",
   "metadata": {},
   "source": [
    "### Distinct values in 'magnitude' column"
   ]
  },
  {
   "cell_type": "code",
   "execution_count": 17,
   "metadata": {},
   "outputs": [
    {
     "data": {
      "text/plain": [
       "[('Low',),\n",
       " ('Moderate',),\n",
       " ('Dense',),\n",
       " ('moderate',),\n",
       " ('Absent',),\n",
       " ('just invaded',),\n",
       " ('low',),\n",
       " ('dense',),\n",
       " ('Not recorded',),\n",
       " ('High',),\n",
       " ('Very high',),\n",
       " ('Not recorded.',),\n",
       " ('absent',),\n",
       " (None,)]"
      ]
     },
     "execution_count": 17,
     "metadata": {},
     "output_type": "execute_result"
    }
   ],
   "source": [
    "cur.execute('SELECT DISTINCT magnitude from survey;')\n",
    "cur.fetchall()"
   ]
  },
  {
   "cell_type": "markdown",
   "metadata": {},
   "source": [
    "### Rows in dataframe and database"
   ]
  },
  {
   "cell_type": "code",
   "execution_count": 18,
   "metadata": {
    "scrolled": true
   },
   "outputs": [
    {
     "name": "stdout",
     "output_type": "stream",
     "text": [
      "Number of rows in database: 2317\n",
      "Number of rows in dataframe: 2372\n"
     ]
    }
   ],
   "source": [
    "cur.execute('SELECT count(*) FROM survey;')\n",
    "numRows=cur.fetchall()\n",
    "print(\"Number of rows in database: %d\" %numRows[0])\n",
    "print(\"Number of rows in dataframe: %d\" %surveyData.shape[0])"
   ]
  },
  {
   "cell_type": "markdown",
   "metadata": {},
   "source": [
    "**Note:** The discrepancy in the number of rows in database and dataframe is because there are rows for which 'magnitude' differs."
   ]
  },
  {
   "cell_type": "code",
   "execution_count": 19,
   "metadata": {},
   "outputs": [],
   "source": [
    "conn.close()"
   ]
  }
 ],
 "metadata": {
  "kernelspec": {
   "display_name": "Python 3",
   "language": "python",
   "name": "python3"
  },
  "language_info": {
   "codemirror_mode": {
    "name": "ipython",
    "version": 3
   },
   "file_extension": ".py",
   "mimetype": "text/x-python",
   "name": "python",
   "nbconvert_exporter": "python",
   "pygments_lexer": "ipython3",
   "version": "3.7.3"
  }
 },
 "nbformat": 4,
 "nbformat_minor": 2
}
