{
 "cells": [
  {
   "cell_type": "markdown",
   "metadata": {},
   "source": [
    "# Standardize survey data\n",
    "**Note:** This code results in `../output/survey.sqlite` which should be moved to `$BIODIVERSITY_DATA/survey/` for dependent modules to work."
   ]
  },
  {
   "cell_type": "code",
   "execution_count": 1,
   "metadata": {},
   "outputs": [],
   "source": [
    "import sqlite3\n",
    "import pandas as pd\n",
    "import numpy as np\n",
    "from pandas import ExcelFile\n",
    "\n",
    "SURVEY_DATA_COLUMNS=['species','latitude','longitude','phase','presence','magnitude']"
   ]
  },
  {
   "cell_type": "markdown",
   "metadata": {},
   "source": [
    "## Input and output"
   ]
  },
  {
   "cell_type": "code",
   "execution_count": 2,
   "metadata": {},
   "outputs": [],
   "source": [
    "DB='../output/survey.sqlite'\n",
    "PHASE_ONE='../../data/field_survey/field_report_2019-06-11_phase1.xlsx'\n",
    "PHASE_TWO='../../data/field_survey/field_report_2019-08-07_phase2.csv'\n",
    "PHASE_THREE='../../data/field_survey/field_report_2020-01-03_phase3.xlsx'\n",
    "\n"
   ]
  },
  {
   "cell_type": "markdown",
   "metadata": {},
   "source": [
    "## Initiating dataframe\n",
    "Mandatory column names for database (more can be added): `index,species,latitude,longitude,presence`"
   ]
  },
  {
   "cell_type": "code",
   "execution_count": 3,
   "metadata": {},
   "outputs": [],
   "source": [
    "surveyData=pd.DataFrame(columns=SURVEY_DATA_COLUMNS)"
   ]
  },
  {
   "cell_type": "markdown",
   "metadata": {},
   "source": [
    "The function `finalize()` below performs final cleaning up and appending to main dataframe."
   ]
  },
  {
   "cell_type": "code",
   "execution_count": 4,
   "metadata": {},
   "outputs": [],
   "source": [
    "def finalize(df,surveyData):\n",
    "    # Verification\n",
    "    if df['latitude'].dtype!='float':\n",
    "        raise TypeError(\"Column 'latitude' should be float.\")\n",
    "    elif df['longitude'].dtype!='float':\n",
    "        raise TypeError(\"Column 'longitude' should be float.\")\n",
    "\n",
    "    surveyData=pd.concat([surveyData,df],sort=True)\n",
    "    print(\"After appending to main dataframe: \",surveyData.shape)\n",
    "    return surveyData"
   ]
  },
  {
   "cell_type": "markdown",
   "metadata": {},
   "source": [
    "## Phase 1\n",
    "Processing one sheet at a time. The below function reads in a sheet and modifies columns.\n",
    "Then, we process each species individually. Note that there are a number of duplicate entries."
   ]
  },
  {
   "cell_type": "code",
   "execution_count": null,
   "metadata": {},
   "outputs": [],
   "source": [
    "def process_phase_one_sheet(sheetName,speciesName):\n",
    "    df=pd.read_excel(PHASE_ONE,sheet_name=sheetName)\n",
    "    df.columns=map(str.lower,df.columns)\n",
    "    print(\"Original data shape: \",df.shape)\n",
    "    \n",
    "    # Retain required columns\n",
    "    if speciesName=='Parthenium hysterophorus':\n",
    "        df=df[['latitude','longitude','magnitude','presence_absence']]\n",
    "    elif speciesName=='Eichhornia crassipes':\n",
    "        df=df[['x_coordi','y_coordi','magnitude']]\n",
    "        df.columns=['latitude','longitude','magnitude']\n",
    "    else:\n",
    "        df=df[['latitude','longitude','magnitude']]\n",
    "    \n",
    "    # Delete unwanted rows\n",
    "    df=df.drop_duplicates()\n",
    "    df=df[df.latitude!='Absent']\n",
    "    df=df[df.longitude!='Absent']\n",
    "    print(\"After dropping duplicates and extra columns: \",df.shape)\n",
    "    \n",
    "    # Create presence column\n",
    "    df['presence']=False\n",
    "    if speciesName=='Parthenium hysterophorus':\n",
    "        df.loc[df['presence_absence']=='Presence','presence']=True\n",
    "        df=df.drop(['presence_absence'],axis=1)\n",
    "        df.loc[df['magnitude'].isna(),'magnitude']='Not recorded.'     \n",
    "    else:\n",
    "        df=df[~df['magnitude'].isna() & ~df['latitude'].isna() & ~df['longitude'].isna()]\n",
    "        if speciesName=='Ageratina adenophora':\n",
    "            df.loc[(df['magnitude']!='Absent') & (df['magnitude']!='') & (df['magnitude']!='Not recorded'),'presence']=True\n",
    "        else:\n",
    "            df.loc[(df['magnitude']!='Absent') & (df['magnitude']!=''),'presence']=True\n",
    "    \n",
    "    # Summary\n",
    "    print(\"Final number of points: \",df.shape)\n",
    "    df['species']=speciesName\n",
    "    df['phase']=1\n",
    "    print(\"Number of presence points:\",df[df['presence']==True].shape)\n",
    "    print(\"Number of absence points:\",df[df['presence']==False].shape)\n",
    "\n",
    "    return df"
   ]
  },
  {
   "cell_type": "markdown",
   "metadata": {},
   "source": [
    "### Lantana camara"
   ]
  },
  {
   "cell_type": "code",
   "execution_count": null,
   "metadata": {},
   "outputs": [],
   "source": [
    "df=process_phase_one_sheet('Lentena','Lantana camara')\n",
    "surveyData=finalize(df,surveyData)\n",
    "# df=pd.read_excel(PHASE_ONE,sheet_name='Lentena')\n",
    "# df.columns=map(str.lower,df.columns)\n",
    "# df['presence']=False\n",
    "# df"
   ]
  },
  {
   "cell_type": "markdown",
   "metadata": {},
   "source": [
    "### Chromolaena odorata"
   ]
  },
  {
   "cell_type": "code",
   "execution_count": null,
   "metadata": {},
   "outputs": [],
   "source": [
    "df=process_phase_one_sheet('Chromoleana','Chromolaena odorata')\n",
    "surveyData=finalize(df,surveyData)"
   ]
  },
  {
   "cell_type": "markdown",
   "metadata": {},
   "source": [
    "###  Ipomoea carnea"
   ]
  },
  {
   "cell_type": "code",
   "execution_count": null,
   "metadata": {},
   "outputs": [],
   "source": [
    "df=process_phase_one_sheet('Ipomea','Ipomoea carnea')\n",
    "surveyData=finalize(df,surveyData)"
   ]
  },
  {
   "cell_type": "markdown",
   "metadata": {},
   "source": [
    "### Mikania micrantha"
   ]
  },
  {
   "cell_type": "code",
   "execution_count": null,
   "metadata": {},
   "outputs": [],
   "source": [
    "df=process_phase_one_sheet('Mikeniea','Mikania micrantha')\n",
    "surveyData=finalize(df,surveyData)"
   ]
  },
  {
   "cell_type": "markdown",
   "metadata": {},
   "source": [
    "### Ageratina adenophora"
   ]
  },
  {
   "cell_type": "code",
   "execution_count": null,
   "metadata": {},
   "outputs": [],
   "source": [
    "df=process_phase_one_sheet('Ageratina','Ageratina adenophora')\n",
    "x=df['longitude'].tolist()\n",
    "print(\"Errors in 'longitude'\",[i for i in range(len(x)) if type(x[i])==str])\n",
    "print(x[29],x[519])\n",
    "df.loc[29,'longitude']=85.0775\n",
    "df=df.drop(df.index[519])\n",
    "x=df['longitude'].tolist()\n",
    "print(\"Verifying after making corrections: \",[i for i in range(len(x)) if type(x[i])==str])\n",
    "x=df['latitude'].tolist()\n",
    "print(\"No errors in 'latitude'\",[i for i in range(len(x)) if type(x[i])==str])\n",
    "df=df.astype({'latitude':'float','longitude':'float'})\n",
    "print(\"Removed 'Not recorded' entries for now.\")\n",
    "print(\"Number of presence points:\",df[df['presence']==True].shape)\n",
    "print(\"Number of absence points:\",df[df['presence']==False].shape)\n",
    "surveyData=finalize(df,surveyData)"
   ]
  },
  {
   "cell_type": "markdown",
   "metadata": {},
   "source": [
    "### Parthenium hysterophorus"
   ]
  },
  {
   "cell_type": "code",
   "execution_count": null,
   "metadata": {
    "scrolled": true
   },
   "outputs": [],
   "source": [
    "df=process_phase_one_sheet('Parthenium','Parthenium hysterophorus')\n",
    "surveyData=finalize(df,surveyData)\n",
    "# df=pd.read_excel(PHASE_ONE,sheet_name='Parthenium')\n",
    "# df.columns=map(str.lower,df.columns)\n",
    "# df['presence']=False\n",
    "# df.loc[df['presence_absence']=='Presence','presence']=True"
   ]
  },
  {
   "cell_type": "markdown",
   "metadata": {},
   "source": [
    "### Eichhornia crassipes"
   ]
  },
  {
   "cell_type": "code",
   "execution_count": null,
   "metadata": {},
   "outputs": [],
   "source": [
    "df=process_phase_one_sheet('Eichorniea','Eichhornia crassipes')\n",
    "surveyData=finalize(df,surveyData)"
   ]
  },
  {
   "cell_type": "markdown",
   "metadata": {},
   "source": [
    "## Phase 2\n",
    "This is present in a single csv file."
   ]
  },
  {
   "cell_type": "code",
   "execution_count": null,
   "metadata": {},
   "outputs": [],
   "source": [
    "df=pd.read_csv(PHASE_TWO)\n",
    "df=df[['longitude','latitude','Species','Field  Validation status']]\n",
    "df.columns=['longitude','latitude','species','presence']\n",
    "df['presence_new']=False\n",
    "df.loc[df['presence']=='Present','presence_new']=True\n",
    "df=df.drop(['presence'],axis=1)\n",
    "df=df.rename(columns={\"presence_new\":\"presence\"})\n",
    "df['phase']=2\n",
    "df.loc[df.species=='Lantana','species']='Lantana camara'\n",
    "df.loc[df.species=='lantana','species']='Lantana camara'\n",
    "df.loc[df.species=='Chromoleana','species']='Chromolaena odorata'\n",
    "df.loc[df.species=='Ipomea','species']='Ipomoea carnea'\n",
    "df.loc[df.species=='Mikania','species']='Mikania micrantha'\n",
    "df.loc[df.species=='Ageratina','species']='Ageratina adenophora'\n",
    "df.loc[df.species=='parthenium','species']='Parthenium hysterophorus'\n",
    "df.loc[df.species=='Parthenium','species']='Parthenium hysterophorus'\n",
    "dupl=df[df.species=='Parthenium/Lantana']\n",
    "dupl.species='Lantana camara'\n",
    "df.loc[df.species=='Parthenium/Lantana','species']='Parthenium hysterophorus'\n",
    "df=pd.concat([df,dupl],sort=True)\n",
    "\n",
    "# Absent columns\n",
    "dupl=df[(df.species=='Absent') | (df.species=='absent')]\n",
    "for sp in ['Lantana camara','Chromolaena odorata','Ipomoea carnea','Mikania micrantha','Ageratina adenophora','Parthenium hysterophorus']:\n",
    "    duplSp=dupl.copy()\n",
    "    duplSp.species=sp\n",
    "    df=pd.concat([df,duplSp],sort=True)\n",
    "\n",
    "df=df[(df.species!='Absent') & (df.species!='absent')]\n",
    "df.species.unique()\n",
    "print(\"Original data shape\",df.shape)\n",
    "df=df.dropna()\n",
    "print(\"After dropping rows with NaNs\", df.shape)\n",
    "print(\"Number of presence points:\",df[df['presence']==True].shape)\n",
    "print(\"Number of absence points:\",df[df['presence']==False].shape)\n",
    "surveyData=finalize(df,surveyData)"
   ]
  },
  {
   "cell_type": "markdown",
   "metadata": {},
   "source": [
    "## Push to database\n",
    "Assumes that the database has the following table:\n",
    "```\n",
    "CREATE TABLE \"survey\" (\n",
    "\t\"species\"\tTEXT,\n",
    "\t\"latitude\"\tREAL,\n",
    "\t\"longitude\"\tREAL,\n",
    "    \"phase\"\tINTEGER,\n",
    "\t\"presence\"\tINTEGER,\n",
    "\t\"magnitude\"\tTEXT,\n",
    "\tPRIMARY KEY(\"species\",\"latitude\",\"longitude\",\"phase\")\n",
    ");\n",
    "```"
   ]
  },
  {
   "cell_type": "markdown",
   "metadata": {},
   "source": [
    "## Phase 3\n",
    "Processing one sheet at a time"
   ]
  },
  {
   "cell_type": "markdown",
   "metadata": {},
   "source": [
    "### Chromolaena"
   ]
  },
  {
   "cell_type": "code",
   "execution_count": 5,
   "metadata": {},
   "outputs": [
    {
     "name": "stdout",
     "output_type": "stream",
     "text": [
      "After appending to main dataframe:  (205, 6)\n",
      "After appending to main dataframe:  (354, 6)\n"
     ]
    }
   ],
   "source": [
    "df=pd.read_excel(PHASE_THREE,sheet_name='Chromolaena presence')\n",
    "df['presence'] = 1\n",
    "df=df.drop(['S.N', 'elevation'],axis=1)\n",
    "df=df.rename(columns={\"Species\":\"species\"})\n",
    "df['species']= \"Chromolaena odorata\"\n",
    "df['phase']=3\n",
    "df=df.drop_duplicates()\n",
    "surveyData=finalize(df,surveyData)\n",
    "\n",
    "\n",
    "df=pd.read_excel(PHASE_THREE,sheet_name='Chromolaena absence')\n",
    "df['presence'] =0\n",
    "df=df.drop(['S.N','Species(Chromolaena)','elevation'],axis=1)\n",
    "df['species']= \"Chromolaena odorata\"\n",
    "df['phase']=3\n",
    "df=df.drop_duplicates()\n",
    "surveyData=finalize(df,surveyData)\n",
    "\n"
   ]
  },
  {
   "cell_type": "markdown",
   "metadata": {},
   "source": [
    "### Lantana Camara"
   ]
  },
  {
   "cell_type": "code",
   "execution_count": 6,
   "metadata": {},
   "outputs": [
    {
     "name": "stdout",
     "output_type": "stream",
     "text": [
      "After appending to main dataframe:  (645, 6)\n",
      "After appending to main dataframe:  (852, 6)\n"
     ]
    }
   ],
   "source": [
    "df=pd.read_excel(PHASE_THREE,sheet_name='Lantana presence')\n",
    "df['presence'] = 1\n",
    "df=df.drop(['SN'],axis=1)\n",
    "df['species']= 'Lantana camara'\n",
    "df['phase']=3\n",
    "df=df.drop_duplicates()\n",
    "surveyData=finalize(df,surveyData)\n",
    "\n",
    "df=pd.read_excel(PHASE_THREE,sheet_name='Lantana absence')\n",
    "df['presence'] = 0\n",
    "df=df.drop(['SN'],axis=1)\n",
    "df=df.drop(['Species/lantana'],axis=1)\n",
    "df['species']= 'Lantana camara'\n",
    "df['phase']=3\n",
    "df=df.drop_duplicates()\n",
    "surveyData=finalize(df,surveyData)\n",
    "\n",
    "\n"
   ]
  },
  {
   "cell_type": "markdown",
   "metadata": {},
   "source": [
    "### Mikania"
   ]
  },
  {
   "cell_type": "code",
   "execution_count": 7,
   "metadata": {},
   "outputs": [
    {
     "name": "stdout",
     "output_type": "stream",
     "text": [
      "After appending to main dataframe:  (970, 6)\n",
      "After appending to main dataframe:  (1130, 6)\n"
     ]
    }
   ],
   "source": [
    "df=pd.read_excel(PHASE_THREE,sheet_name='Mikania presence')\n",
    "df['presence'] = 1\n",
    "df=df.drop(['S.N','elevation'],axis=1)\n",
    "df=df.drop(df.columns[4],axis='columns')\n",
    "df=df.rename(columns={\"Species\":\"species\", \"Magnitude\":\"magnitude\"})\n",
    "df['species']= 'Mikania micrantha'\n",
    "df['phase']=3\n",
    "df=df.drop_duplicates()\n",
    "surveyData=finalize(df,surveyData)\n",
    "\n",
    "df=pd.read_excel(PHASE_THREE,sheet_name='Mikania absence')\n",
    "df['presence'] = 0\n",
    "df=df.drop(['S.N','elevation'],axis=1)\n",
    "df=df.rename(columns={\"Species/mikania\":\"species\"})\n",
    "df['species']= 'Mikania micrantha'\n",
    "df['phase']=3\n",
    "df=df.drop_duplicates()\n",
    "surveyData=finalize(df,surveyData)\n",
    "\n",
    "\n"
   ]
  },
  {
   "cell_type": "markdown",
   "metadata": {},
   "source": [
    "### Ipomea"
   ]
  },
  {
   "cell_type": "code",
   "execution_count": 8,
   "metadata": {},
   "outputs": [
    {
     "name": "stdout",
     "output_type": "stream",
     "text": [
      "After appending to main dataframe:  (1142, 6)\n"
     ]
    }
   ],
   "source": [
    "df=pd.read_excel(PHASE_THREE,sheet_name='Ipomea presence')\n",
    "df = df[:-1]\n",
    "df=df.rename(columns={\"SN\":\"species\", \"Longitude\":\"longitude\"})\n",
    "df['species'] = 'Ipomoea carnea'\n",
    "df.drop(df.columns[[3, 5]], axis=1, inplace=True)\n",
    "df['presence']=1\n",
    "df['magnitude'] = df['magnitude'].astype(str)\n",
    "df['phase']=3\n",
    "df=df.drop_duplicates()\n",
    "surveyData=finalize(df,surveyData)\n",
    "\n",
    "\n"
   ]
  },
  {
   "cell_type": "markdown",
   "metadata": {},
   "source": [
    "### Eichornia"
   ]
  },
  {
   "cell_type": "code",
   "execution_count": 9,
   "metadata": {},
   "outputs": [
    {
     "name": "stdout",
     "output_type": "stream",
     "text": [
      "After appending to main dataframe:  (1148, 6)\n"
     ]
    }
   ],
   "source": [
    "df=pd.read_excel(PHASE_THREE,sheet_name='Eichornia presence')\n",
    "df=df.drop(['S.N','elevation'],axis=1)\n",
    "df=df.rename(columns={\"Species\":\"species\"})\n",
    "df['magnitude'] = df['magnitude'].astype(str)\n",
    "df['presence'] =1\n",
    "df['species'] = 'Eichhornia crassipes'\n",
    "df['phase']=3\n",
    "df=df.drop_duplicates()\n",
    "surveyData=finalize(df,surveyData)\n",
    "\n"
   ]
  },
  {
   "cell_type": "markdown",
   "metadata": {},
   "source": [
    "### Parthenium"
   ]
  },
  {
   "cell_type": "code",
   "execution_count": 10,
   "metadata": {},
   "outputs": [
    {
     "name": "stdout",
     "output_type": "stream",
     "text": [
      "After appending to main dataframe:  (1537, 6)\n"
     ]
    }
   ],
   "source": [
    "df=pd.read_excel(PHASE_THREE,sheet_name='parthenium_presenceabsence')\n",
    "df.drop(df.columns[4:11], axis=1, inplace=True)\n",
    "df=df.drop(['SN','Elevation','Field_visi', 'value'],axis=1)\n",
    "df=df.rename(columns={\"Presence_a\":\"presence\", \"Latitude\":\"latitude\", \"Longitude\":\"longitude\"})\n",
    "df.loc[df.presence == \"Parthenium present\",\"presence\"] = 1\n",
    "df.loc[df.presence == \"Parthenium absent\",\"presence\"] = 0\n",
    "df['species'] = 'Parthenium hysterophorus'\n",
    "df['phase']=3\n",
    "df=df.drop_duplicates()\n",
    "surveyData=finalize(df,surveyData)\n"
   ]
  },
  {
   "cell_type": "code",
   "execution_count": null,
   "metadata": {},
   "outputs": [],
   "source": [
    "conn = sqlite3.connect(DB)\n",
    "cur=conn.cursor()\n",
    "cur.execute('CREATE TABLE IF NOT EXISTS \"survey\" ( \\\n",
    "    \"species\"    TEXT, \\\n",
    "    \"latitude\"    REAL, \\\n",
    "    \"longitude\"    REAL, \\\n",
    "    \"phase\"    INTEGER, \\\n",
    "    \"presence\"    INTEGER, \\\n",
    "    \"magnitude\"    TEXT, \\\n",
    "    PRIMARY KEY(\"species\",\"latitude\",\"longitude\",\"phase\") \\\n",
    ");')\n",
    "surveyData.to_sql('temporary_table',conn,if_exists='replace')\n",
    "cur=conn.cursor()\n",
    "cur.execute('INSERT OR REPLACE INTO survey SELECT ' + ','.join(SURVEY_DATA_COLUMNS) + ' FROM temporary_table;')\n",
    "cur.execute('DROP TABLE temporary_table;')\n",
    "conn.commit()\n",
    "conn.close()"
   ]
  },
  {
   "cell_type": "markdown",
   "metadata": {},
   "source": [
    "## Verification\n",
    "### Distinct species list"
   ]
  },
  {
   "cell_type": "code",
   "execution_count": null,
   "metadata": {},
   "outputs": [],
   "source": [
    "conn = sqlite3.connect(DB)\n",
    "cur=conn.cursor()\n",
    "cur.execute('SELECT DISTINCT species from survey;')\n",
    "cur.fetchall()"
   ]
  },
  {
   "cell_type": "markdown",
   "metadata": {},
   "source": [
    "### Distinct values in 'presence' column"
   ]
  },
  {
   "cell_type": "code",
   "execution_count": null,
   "metadata": {},
   "outputs": [],
   "source": [
    "cur.execute('SELECT DISTINCT presence from survey;')\n",
    "cur.fetchall()"
   ]
  },
  {
   "cell_type": "markdown",
   "metadata": {},
   "source": [
    "### Distinct values in 'magnitude' column"
   ]
  },
  {
   "cell_type": "code",
   "execution_count": null,
   "metadata": {},
   "outputs": [],
   "source": [
    "cur.execute('SELECT DISTINCT magnitude from survey;')\n",
    "cur.fetchall()"
   ]
  },
  {
   "cell_type": "markdown",
   "metadata": {},
   "source": [
    "### Rows in dataframe and database"
   ]
  },
  {
   "cell_type": "code",
   "execution_count": null,
   "metadata": {
    "scrolled": true
   },
   "outputs": [],
   "source": [
    "cur.execute('SELECT count(*) FROM survey;')\n",
    "numRows=cur.fetchall()\n",
    "print(\"Number of rows in database: %d\" %numRows[0])\n",
    "print(\"Number of rows in dataframe: %d\" %surveyData.shape[0])"
   ]
  },
  {
   "cell_type": "markdown",
   "metadata": {},
   "source": [
    "**Note:** The discrepancy in the number of rows in database and dataframe is because there are rows for which 'magnitude' differs."
   ]
  },
  {
   "cell_type": "markdown",
   "metadata": {},
   "source": [
    "### Checking presence/absence points for each species"
   ]
  },
  {
   "cell_type": "code",
   "execution_count": null,
   "metadata": {},
   "outputs": [],
   "source": [
    "cur.execute('SELECT species,phase,count(*),sum(presence) AS presence,sum((1-presence)) AS absence FROM survey GROUP BY species,phase;')\n",
    "res=cur.fetchall()\n",
    "for ele in res:\n",
    "    print(ele)"
   ]
  },
  {
   "cell_type": "code",
   "execution_count": null,
   "metadata": {},
   "outputs": [],
   "source": [
    "conn.close()"
   ]
  },
  {
   "cell_type": "markdown",
   "metadata": {},
   "source": []
  },
  {
   "cell_type": "code",
   "execution_count": null,
   "metadata": {},
   "outputs": [],
   "source": []
  }
 ],
 "metadata": {
  "kernelspec": {
   "display_name": "Python 3",
   "language": "python",
   "name": "python3"
  },
  "language_info": {
   "codemirror_mode": {
    "name": "ipython",
    "version": 3
   },
   "file_extension": ".py",
   "mimetype": "text/x-python",
   "name": "python",
   "nbconvert_exporter": "python",
   "pygments_lexer": "ipython3",
   "version": "3.6.9"
  }
 },
 "nbformat": 4,
 "nbformat_minor": 2
}
