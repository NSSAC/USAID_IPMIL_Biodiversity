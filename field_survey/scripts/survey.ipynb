{
 "cells": [
  {
   "cell_type": "markdown",
   "metadata": {},
   "source": [
    "# Standardize survey data"
   ]
  },
  {
   "cell_type": "code",
   "execution_count": 1,
   "metadata": {},
   "outputs": [],
   "source": [
    "import sqlite3\n",
    "import pandas as pd\n",
    "from pandas import ExcelFile\n",
    "\n",
    "SURVEY_DATA_COLUMNS=['species','latitude','longitude','presence','magnitude','phase']"
   ]
  },
  {
   "cell_type": "markdown",
   "metadata": {},
   "source": [
    "## Input and output"
   ]
  },
  {
   "cell_type": "code",
   "execution_count": 2,
   "metadata": {},
   "outputs": [],
   "source": [
    "DB='../output/survey.sqlite'\n",
    "PHASE_ONE='../../data/field_survey/field_report_2019-06-11_phase1.xlsx'\n",
    "PHASE_TWO=''"
   ]
  },
  {
   "cell_type": "markdown",
   "metadata": {},
   "source": [
    "## Initiating dataframe\n",
    "Mandatory column names for database (more can be added): `index,species,latitude,longitude,presence`"
   ]
  },
  {
   "cell_type": "code",
   "execution_count": 3,
   "metadata": {},
   "outputs": [],
   "source": [
    "surveyData=pd.DataFrame(columns=SURVEY_DATA_COLUMNS)"
   ]
  },
  {
   "cell_type": "markdown",
   "metadata": {},
   "source": [
    "## Phase 1\n",
    "Processing one sheet at a time. The below function reads in a sheet and modifies columns."
   ]
  },
  {
   "cell_type": "code",
   "execution_count": 4,
   "metadata": {},
   "outputs": [],
   "source": [
    "def process_phase_one_sheet(sheetName):\n",
    "    df=pd.read_excel(PHASE_ONE,sheet_name=sheetName)\n",
    "    df.columns=map(str.lower,df.columns)\n",
    "    return df"
   ]
  },
  {
   "cell_type": "markdown",
   "metadata": {},
   "source": [
    "### Lantana camara"
   ]
  },
  {
   "cell_type": "code",
   "execution_count": 5,
   "metadata": {},
   "outputs": [
    {
     "data": {
      "text/plain": [
       "(538, 6)"
      ]
     },
     "execution_count": 5,
     "metadata": {},
     "output_type": "execute_result"
    }
   ],
   "source": [
    "df=process_phase_one_sheet('Lentena')\n",
    "df=df[['latitude','longitude','magnitude']]\n",
    "df['species']='Lantana camara'\n",
    "df['presence']=(df['magnitude']!='Absent') | (df['magnitude']!='')\n",
    "surveyData=surveyData.append(df,sort=True)\n",
    "surveyData.shape"
   ]
  },
  {
   "cell_type": "markdown",
   "metadata": {},
   "source": [
    "### Chromolaena odorata"
   ]
  },
  {
   "cell_type": "code",
   "execution_count": 6,
   "metadata": {},
   "outputs": [
    {
     "data": {
      "text/plain": [
       "(659, 6)"
      ]
     },
     "execution_count": 6,
     "metadata": {},
     "output_type": "execute_result"
    }
   ],
   "source": [
    "df=process_phase_one_sheet('Chromoleana')\n",
    "df=df[['latitude','longitude','magnitude']]\n",
    "df['species']='Chromolaena odorata'\n",
    "df['presence']=(df['magnitude']!='Absent') | (df['magnitude']!='')\n",
    "surveyData=surveyData.append(df,sort=True)\n",
    "surveyData.shape"
   ]
  },
  {
   "cell_type": "markdown",
   "metadata": {},
   "source": [
    "###  Ipomoea carnea"
   ]
  },
  {
   "cell_type": "code",
   "execution_count": 7,
   "metadata": {},
   "outputs": [
    {
     "data": {
      "text/plain": [
       "(947, 6)"
      ]
     },
     "execution_count": 7,
     "metadata": {},
     "output_type": "execute_result"
    }
   ],
   "source": [
    "df=process_phase_one_sheet('Ipomea')\n",
    "df=df[['latitude','longitude','magnitude']]\n",
    "df['species']='Ipomoea carnea'\n",
    "df['presence']=(df['magnitude']!='Absent') | (df['magnitude']!='')\n",
    "surveyData=surveyData.append(df,sort=True)\n",
    "surveyData.shape"
   ]
  },
  {
   "cell_type": "markdown",
   "metadata": {},
   "source": [
    "### Mikania micrantha"
   ]
  },
  {
   "cell_type": "code",
   "execution_count": 8,
   "metadata": {},
   "outputs": [
    {
     "data": {
      "text/plain": [
       "(1063, 6)"
      ]
     },
     "execution_count": 8,
     "metadata": {},
     "output_type": "execute_result"
    }
   ],
   "source": [
    "df=process_phase_one_sheet('Mikeniea')\n",
    "df=df[['latitude','longitude','magnitude']]\n",
    "df['species']='Mikania micrantha'\n",
    "df['presence']=(df['magnitude']!='Absent') | (df['magnitude']!='')\n",
    "surveyData=surveyData.append(df,sort=True)\n",
    "surveyData.shape"
   ]
  },
  {
   "cell_type": "markdown",
   "metadata": {},
   "source": [
    "### Ageratina adenophora"
   ]
  },
  {
   "cell_type": "code",
   "execution_count": 9,
   "metadata": {},
   "outputs": [
    {
     "data": {
      "text/plain": [
       "(1606, 6)"
      ]
     },
     "execution_count": 9,
     "metadata": {},
     "output_type": "execute_result"
    }
   ],
   "source": [
    "df=process_phase_one_sheet('Ageratina')\n",
    "df=df[['latitude','longitude','magnitude']]\n",
    "df['species']='Ageratina adenophora'\n",
    "df['presence']=(df['magnitude']!='Absent') | (df['magnitude']!='')\n",
    "surveyData=surveyData.append(df,sort=True)\n",
    "surveyData.shape"
   ]
  },
  {
   "cell_type": "markdown",
   "metadata": {},
   "source": [
    "### Parthenium hysterophorus"
   ]
  },
  {
   "cell_type": "code",
   "execution_count": 11,
   "metadata": {
    "scrolled": true
   },
   "outputs": [
    {
     "data": {
      "text/plain": [
       "(2366, 6)"
      ]
     },
     "execution_count": 11,
     "metadata": {},
     "output_type": "execute_result"
    }
   ],
   "source": [
    "df=process_phase_one_sheet('Parthenium')\n",
    "df=df[['latitude','longitude','magnitude','presence_absence']]\n",
    "df['species']='Parthenium hysterophorus'\n",
    "df['presence']=df['presence_absence']=='Presence'\n",
    "df=df.drop(['presence_absence'],axis=1)\n",
    "surveyData=surveyData.append(df,sort=True)\n",
    "surveyData.shape"
   ]
  },
  {
   "cell_type": "markdown",
   "metadata": {},
   "source": [
    "### Eichhornia crassipes"
   ]
  },
  {
   "cell_type": "code",
   "execution_count": 15,
   "metadata": {},
   "outputs": [
    {
     "data": {
      "text/html": [
       "<div>\n",
       "<style scoped>\n",
       "    .dataframe tbody tr th:only-of-type {\n",
       "        vertical-align: middle;\n",
       "    }\n",
       "\n",
       "    .dataframe tbody tr th {\n",
       "        vertical-align: top;\n",
       "    }\n",
       "\n",
       "    .dataframe thead th {\n",
       "        text-align: right;\n",
       "    }\n",
       "</style>\n",
       "<table border=\"1\" class=\"dataframe\">\n",
       "  <thead>\n",
       "    <tr style=\"text-align: right;\">\n",
       "      <th></th>\n",
       "      <th>latitude</th>\n",
       "      <th>longitude</th>\n",
       "      <th>magnitude</th>\n",
       "    </tr>\n",
       "  </thead>\n",
       "  <tbody>\n",
       "    <tr>\n",
       "      <th>0</th>\n",
       "      <td>85.100950</td>\n",
       "      <td>27.532267</td>\n",
       "      <td>Absent</td>\n",
       "    </tr>\n",
       "    <tr>\n",
       "      <th>1</th>\n",
       "      <td>85.080417</td>\n",
       "      <td>27.520017</td>\n",
       "      <td>Absent</td>\n",
       "    </tr>\n",
       "    <tr>\n",
       "      <th>2</th>\n",
       "      <td>85.076133</td>\n",
       "      <td>27.514600</td>\n",
       "      <td>Absent</td>\n",
       "    </tr>\n",
       "    <tr>\n",
       "      <th>3</th>\n",
       "      <td>85.036333</td>\n",
       "      <td>27.444200</td>\n",
       "      <td>Absent</td>\n",
       "    </tr>\n",
       "    <tr>\n",
       "      <th>4</th>\n",
       "      <td>85.051650</td>\n",
       "      <td>27.408620</td>\n",
       "      <td>Absent</td>\n",
       "    </tr>\n",
       "    <tr>\n",
       "      <th>5</th>\n",
       "      <td>84.352800</td>\n",
       "      <td>27.603883</td>\n",
       "      <td>Absent</td>\n",
       "    </tr>\n",
       "    <tr>\n",
       "      <th>6</th>\n",
       "      <td>84.363367</td>\n",
       "      <td>27.601450</td>\n",
       "      <td>absent</td>\n",
       "    </tr>\n",
       "    <tr>\n",
       "      <th>7</th>\n",
       "      <td>84.417617</td>\n",
       "      <td>27.701083</td>\n",
       "      <td>Absent</td>\n",
       "    </tr>\n",
       "    <tr>\n",
       "      <th>8</th>\n",
       "      <td>84.257183</td>\n",
       "      <td>27.686783</td>\n",
       "      <td>Absent</td>\n",
       "    </tr>\n",
       "    <tr>\n",
       "      <th>9</th>\n",
       "      <td>84.224017</td>\n",
       "      <td>27.680800</td>\n",
       "      <td>Absent</td>\n",
       "    </tr>\n",
       "    <tr>\n",
       "      <th>10</th>\n",
       "      <td>84.203867</td>\n",
       "      <td>27.672900</td>\n",
       "      <td>Absent</td>\n",
       "    </tr>\n",
       "    <tr>\n",
       "      <th>11</th>\n",
       "      <td>84.172700</td>\n",
       "      <td>27.664433</td>\n",
       "      <td>Absent</td>\n",
       "    </tr>\n",
       "    <tr>\n",
       "      <th>12</th>\n",
       "      <td>84.100733</td>\n",
       "      <td>27.630683</td>\n",
       "      <td>Absent</td>\n",
       "    </tr>\n",
       "    <tr>\n",
       "      <th>13</th>\n",
       "      <td>84.112250</td>\n",
       "      <td>27.589217</td>\n",
       "      <td>Absent</td>\n",
       "    </tr>\n",
       "    <tr>\n",
       "      <th>14</th>\n",
       "      <td>84.084000</td>\n",
       "      <td>27.622900</td>\n",
       "      <td>Absent</td>\n",
       "    </tr>\n",
       "    <tr>\n",
       "      <th>15</th>\n",
       "      <td>84.014250</td>\n",
       "      <td>27.614567</td>\n",
       "      <td>Absent</td>\n",
       "    </tr>\n",
       "    <tr>\n",
       "      <th>16</th>\n",
       "      <td>83.955750</td>\n",
       "      <td>27.614283</td>\n",
       "      <td>Absent</td>\n",
       "    </tr>\n",
       "    <tr>\n",
       "      <th>17</th>\n",
       "      <td>84.894700</td>\n",
       "      <td>27.467530</td>\n",
       "      <td>low</td>\n",
       "    </tr>\n",
       "    <tr>\n",
       "      <th>18</th>\n",
       "      <td>84.503900</td>\n",
       "      <td>27.595883</td>\n",
       "      <td>Dense</td>\n",
       "    </tr>\n",
       "    <tr>\n",
       "      <th>19</th>\n",
       "      <td>84.493230</td>\n",
       "      <td>27.638400</td>\n",
       "      <td>Dense</td>\n",
       "    </tr>\n",
       "    <tr>\n",
       "      <th>20</th>\n",
       "      <td>84.491300</td>\n",
       "      <td>27.640000</td>\n",
       "      <td>Dense</td>\n",
       "    </tr>\n",
       "    <tr>\n",
       "      <th>21</th>\n",
       "      <td>84.494950</td>\n",
       "      <td>27.644660</td>\n",
       "      <td>Dense</td>\n",
       "    </tr>\n",
       "    <tr>\n",
       "      <th>22</th>\n",
       "      <td>84.494300</td>\n",
       "      <td>27.644100</td>\n",
       "      <td>Dense</td>\n",
       "    </tr>\n",
       "    <tr>\n",
       "      <th>23</th>\n",
       "      <td>84.216233</td>\n",
       "      <td>27.661900</td>\n",
       "      <td>Dense</td>\n",
       "    </tr>\n",
       "    <tr>\n",
       "      <th>24</th>\n",
       "      <td>84.216850</td>\n",
       "      <td>27.663130</td>\n",
       "      <td>Dense</td>\n",
       "    </tr>\n",
       "    <tr>\n",
       "      <th>25</th>\n",
       "      <td>84.216700</td>\n",
       "      <td>27.664330</td>\n",
       "      <td>Dense</td>\n",
       "    </tr>\n",
       "    <tr>\n",
       "      <th>26</th>\n",
       "      <td>84.216700</td>\n",
       "      <td>27.666280</td>\n",
       "      <td>low</td>\n",
       "    </tr>\n",
       "    <tr>\n",
       "      <th>27</th>\n",
       "      <td>85.026900</td>\n",
       "      <td>27.413050</td>\n",
       "      <td>Dense</td>\n",
       "    </tr>\n",
       "    <tr>\n",
       "      <th>28</th>\n",
       "      <td>85.032260</td>\n",
       "      <td>27.412300</td>\n",
       "      <td>low</td>\n",
       "    </tr>\n",
       "    <tr>\n",
       "      <th>29</th>\n",
       "      <td>85.033080</td>\n",
       "      <td>27.412300</td>\n",
       "      <td>Dense</td>\n",
       "    </tr>\n",
       "    <tr>\n",
       "      <th>...</th>\n",
       "      <td>...</td>\n",
       "      <td>...</td>\n",
       "      <td>...</td>\n",
       "    </tr>\n",
       "    <tr>\n",
       "      <th>32</th>\n",
       "      <td>85.021250</td>\n",
       "      <td>27.415740</td>\n",
       "      <td>low</td>\n",
       "    </tr>\n",
       "    <tr>\n",
       "      <th>33</th>\n",
       "      <td>85.018920</td>\n",
       "      <td>27.414910</td>\n",
       "      <td>low</td>\n",
       "    </tr>\n",
       "    <tr>\n",
       "      <th>34</th>\n",
       "      <td>84.987340</td>\n",
       "      <td>27.431170</td>\n",
       "      <td>moderate</td>\n",
       "    </tr>\n",
       "    <tr>\n",
       "      <th>35</th>\n",
       "      <td>84.988660</td>\n",
       "      <td>27.430620</td>\n",
       "      <td>low</td>\n",
       "    </tr>\n",
       "    <tr>\n",
       "      <th>36</th>\n",
       "      <td>84.492320</td>\n",
       "      <td>27.635550</td>\n",
       "      <td>Dense</td>\n",
       "    </tr>\n",
       "    <tr>\n",
       "      <th>37</th>\n",
       "      <td>84.492290</td>\n",
       "      <td>27.636050</td>\n",
       "      <td>Dense</td>\n",
       "    </tr>\n",
       "    <tr>\n",
       "      <th>38</th>\n",
       "      <td>84.491040</td>\n",
       "      <td>27.635200</td>\n",
       "      <td>moderate</td>\n",
       "    </tr>\n",
       "    <tr>\n",
       "      <th>39</th>\n",
       "      <td>84.492030</td>\n",
       "      <td>27.636530</td>\n",
       "      <td>Dense</td>\n",
       "    </tr>\n",
       "    <tr>\n",
       "      <th>40</th>\n",
       "      <td>84.492300</td>\n",
       "      <td>27.636930</td>\n",
       "      <td>just invaded</td>\n",
       "    </tr>\n",
       "    <tr>\n",
       "      <th>41</th>\n",
       "      <td>84.490200</td>\n",
       "      <td>27.630790</td>\n",
       "      <td>low</td>\n",
       "    </tr>\n",
       "    <tr>\n",
       "      <th>42</th>\n",
       "      <td>84.488490</td>\n",
       "      <td>27.629550</td>\n",
       "      <td>low</td>\n",
       "    </tr>\n",
       "    <tr>\n",
       "      <th>43</th>\n",
       "      <td>84.129290</td>\n",
       "      <td>27.632110</td>\n",
       "      <td>Dense</td>\n",
       "    </tr>\n",
       "    <tr>\n",
       "      <th>44</th>\n",
       "      <td>84.128970</td>\n",
       "      <td>27.631760</td>\n",
       "      <td>Dense</td>\n",
       "    </tr>\n",
       "    <tr>\n",
       "      <th>45</th>\n",
       "      <td>84.092250</td>\n",
       "      <td>28.165980</td>\n",
       "      <td>low</td>\n",
       "    </tr>\n",
       "    <tr>\n",
       "      <th>46</th>\n",
       "      <td>84.092760</td>\n",
       "      <td>28.166700</td>\n",
       "      <td>moderate</td>\n",
       "    </tr>\n",
       "    <tr>\n",
       "      <th>47</th>\n",
       "      <td>84.899180</td>\n",
       "      <td>27.466870</td>\n",
       "      <td>NaN</td>\n",
       "    </tr>\n",
       "    <tr>\n",
       "      <th>48</th>\n",
       "      <td>84.898950</td>\n",
       "      <td>27.466870</td>\n",
       "      <td>NaN</td>\n",
       "    </tr>\n",
       "    <tr>\n",
       "      <th>49</th>\n",
       "      <td>84.875430</td>\n",
       "      <td>27.480180</td>\n",
       "      <td>moderate</td>\n",
       "    </tr>\n",
       "    <tr>\n",
       "      <th>50</th>\n",
       "      <td>84.576583</td>\n",
       "      <td>27.611433</td>\n",
       "      <td>NaN</td>\n",
       "    </tr>\n",
       "    <tr>\n",
       "      <th>51</th>\n",
       "      <td>84.559067</td>\n",
       "      <td>27.614017</td>\n",
       "      <td>NaN</td>\n",
       "    </tr>\n",
       "    <tr>\n",
       "      <th>52</th>\n",
       "      <td>84.510233</td>\n",
       "      <td>27.602650</td>\n",
       "      <td>NaN</td>\n",
       "    </tr>\n",
       "    <tr>\n",
       "      <th>53</th>\n",
       "      <td>84.508220</td>\n",
       "      <td>27.598430</td>\n",
       "      <td>NaN</td>\n",
       "    </tr>\n",
       "    <tr>\n",
       "      <th>54</th>\n",
       "      <td>84.500100</td>\n",
       "      <td>27.593950</td>\n",
       "      <td>NaN</td>\n",
       "    </tr>\n",
       "    <tr>\n",
       "      <th>55</th>\n",
       "      <td>84.498367</td>\n",
       "      <td>27.593417</td>\n",
       "      <td>NaN</td>\n",
       "    </tr>\n",
       "    <tr>\n",
       "      <th>56</th>\n",
       "      <td>84.364217</td>\n",
       "      <td>27.603683</td>\n",
       "      <td>moderate</td>\n",
       "    </tr>\n",
       "    <tr>\n",
       "      <th>57</th>\n",
       "      <td>84.363900</td>\n",
       "      <td>27.601967</td>\n",
       "      <td>moderate</td>\n",
       "    </tr>\n",
       "    <tr>\n",
       "      <th>58</th>\n",
       "      <td>84.495430</td>\n",
       "      <td>27.592170</td>\n",
       "      <td>Dense</td>\n",
       "    </tr>\n",
       "    <tr>\n",
       "      <th>59</th>\n",
       "      <td>84.358150</td>\n",
       "      <td>27.603883</td>\n",
       "      <td>NaN</td>\n",
       "    </tr>\n",
       "    <tr>\n",
       "      <th>60</th>\n",
       "      <td>84.119133</td>\n",
       "      <td>27.598900</td>\n",
       "      <td>NaN</td>\n",
       "    </tr>\n",
       "    <tr>\n",
       "      <th>61</th>\n",
       "      <td>84.119150</td>\n",
       "      <td>27.599133</td>\n",
       "      <td>NaN</td>\n",
       "    </tr>\n",
       "  </tbody>\n",
       "</table>\n",
       "<p>62 rows × 3 columns</p>\n",
       "</div>"
      ],
      "text/plain": [
       "     latitude  longitude     magnitude\n",
       "0   85.100950  27.532267        Absent\n",
       "1   85.080417  27.520017        Absent\n",
       "2   85.076133  27.514600        Absent\n",
       "3   85.036333  27.444200        Absent\n",
       "4   85.051650  27.408620        Absent\n",
       "5   84.352800  27.603883        Absent\n",
       "6   84.363367  27.601450        absent\n",
       "7   84.417617  27.701083        Absent\n",
       "8   84.257183  27.686783        Absent\n",
       "9   84.224017  27.680800        Absent\n",
       "10  84.203867  27.672900        Absent\n",
       "11  84.172700  27.664433        Absent\n",
       "12  84.100733  27.630683        Absent\n",
       "13  84.112250  27.589217        Absent\n",
       "14  84.084000  27.622900        Absent\n",
       "15  84.014250  27.614567        Absent\n",
       "16  83.955750  27.614283        Absent\n",
       "17  84.894700  27.467530           low\n",
       "18  84.503900  27.595883         Dense\n",
       "19  84.493230  27.638400         Dense\n",
       "20  84.491300  27.640000         Dense\n",
       "21  84.494950  27.644660         Dense\n",
       "22  84.494300  27.644100         Dense\n",
       "23  84.216233  27.661900         Dense\n",
       "24  84.216850  27.663130         Dense\n",
       "25  84.216700  27.664330         Dense\n",
       "26  84.216700  27.666280           low\n",
       "27  85.026900  27.413050         Dense\n",
       "28  85.032260  27.412300           low\n",
       "29  85.033080  27.412300         Dense\n",
       "..        ...        ...           ...\n",
       "32  85.021250  27.415740           low\n",
       "33  85.018920  27.414910           low\n",
       "34  84.987340  27.431170      moderate\n",
       "35  84.988660  27.430620           low\n",
       "36  84.492320  27.635550         Dense\n",
       "37  84.492290  27.636050         Dense\n",
       "38  84.491040  27.635200      moderate\n",
       "39  84.492030  27.636530         Dense\n",
       "40  84.492300  27.636930  just invaded\n",
       "41  84.490200  27.630790           low\n",
       "42  84.488490  27.629550           low\n",
       "43  84.129290  27.632110         Dense\n",
       "44  84.128970  27.631760         Dense\n",
       "45  84.092250  28.165980           low\n",
       "46  84.092760  28.166700      moderate\n",
       "47  84.899180  27.466870           NaN\n",
       "48  84.898950  27.466870           NaN\n",
       "49  84.875430  27.480180      moderate\n",
       "50  84.576583  27.611433           NaN\n",
       "51  84.559067  27.614017           NaN\n",
       "52  84.510233  27.602650           NaN\n",
       "53  84.508220  27.598430           NaN\n",
       "54  84.500100  27.593950           NaN\n",
       "55  84.498367  27.593417           NaN\n",
       "56  84.364217  27.603683      moderate\n",
       "57  84.363900  27.601967      moderate\n",
       "58  84.495430  27.592170         Dense\n",
       "59  84.358150  27.603883           NaN\n",
       "60  84.119133  27.598900           NaN\n",
       "61  84.119150  27.599133           NaN\n",
       "\n",
       "[62 rows x 3 columns]"
      ]
     },
     "execution_count": 15,
     "metadata": {},
     "output_type": "execute_result"
    }
   ],
   "source": [
    "df=process_phase_one_sheet('Eichorniea')\n",
    "df=df[['x_coordi','y_coordi','magnitude']]\n",
    "df.columns=['latitude','longitude','magnitude']\n",
    "df\n",
    "#df['species']='Eichhornia crassipes'\n",
    "#df['presence']=(df['magnitude']!='Absent') | (df['magnitude']!='')\n",
    "#df=df.drop(['presence_absence'],axis=1)\n",
    "#surveyData=surveyData.append(df,sort=True)\n",
    "#surveyData.shape"
   ]
  }
 ],
 "metadata": {
  "kernelspec": {
   "display_name": "Python 3",
   "language": "python",
   "name": "python3"
  },
  "language_info": {
   "codemirror_mode": {
    "name": "ipython",
    "version": 3
   },
   "file_extension": ".py",
   "mimetype": "text/x-python",
   "name": "python",
   "nbconvert_exporter": "python",
   "pygments_lexer": "ipython3",
   "version": "3.7.3"
  }
 },
 "nbformat": 4,
 "nbformat_minor": 2
}
