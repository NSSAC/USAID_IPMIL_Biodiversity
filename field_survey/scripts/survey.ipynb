{
 "cells": [
  {
   "cell_type": "markdown",
   "metadata": {},
   "source": [
    "# Standardize survey data\n",
    "**Note:** This code results in `../output/survey.sqlite` which should be moved to `$BIODIVERSITY_DATA/survey/` for dependent modules to work."
   ]
  },
  {
   "cell_type": "code",
   "execution_count": 1,
   "metadata": {},
   "outputs": [],
   "source": [
    "import sqlite3\n",
    "import pandas as pd\n",
    "import numpy as np\n",
    "from pandas import ExcelFile\n",
    "\n",
    "SURVEY_DATA_COLUMNS=['species','latitude','longitude','phase','presence','magnitude']"
   ]
  },
  {
   "cell_type": "markdown",
   "metadata": {},
   "source": [
    "## Input and output"
   ]
  },
  {
   "cell_type": "code",
   "execution_count": 2,
   "metadata": {},
   "outputs": [],
   "source": [
    "DB='../output/survey.sqlite'\n",
    "PHASE_ONE='../../data/field_survey/field_report_2019-06-11_phase1.xlsx'\n",
    "PHASE_TWO='../../data/field_survey/field_report_2019-08-07_phase2.csv'"
   ]
  },
  {
   "cell_type": "markdown",
   "metadata": {},
   "source": [
    "## Initiating dataframe\n",
    "Mandatory column names for database (more can be added): `index,species,latitude,longitude,presence`"
   ]
  },
  {
   "cell_type": "code",
   "execution_count": 3,
   "metadata": {},
   "outputs": [],
   "source": [
    "surveyData=pd.DataFrame(columns=SURVEY_DATA_COLUMNS)"
   ]
  },
  {
   "cell_type": "markdown",
   "metadata": {},
   "source": [
    "The function `finalize()` below performs final cleaning up and appending to main dataframe."
   ]
  },
  {
   "cell_type": "code",
   "execution_count": 4,
   "metadata": {},
   "outputs": [],
   "source": [
    "def finalize(df,surveyData):\n",
    "    # Verification\n",
    "    if df['latitude'].dtype!='float':\n",
    "        raise TypeError(\"Column 'latitude' should be float.\")\n",
    "    elif df['longitude'].dtype!='float':\n",
    "        raise TypeError(\"Column 'longitude' should be float.\")\n",
    "\n",
    "    surveyData=pd.concat([surveyData,df],sort=True)\n",
    "    print(\"After appending to main dataframe: \",surveyData.shape)\n",
    "    return surveyData"
   ]
  },
  {
   "cell_type": "markdown",
   "metadata": {},
   "source": [
    "## Phase 1\n",
    "Processing one sheet at a time. The below function reads in a sheet and modifies columns.\n",
    "Then, we process each species individually. Note that there are a number of duplicate entries."
   ]
  },
  {
   "cell_type": "code",
   "execution_count": 5,
   "metadata": {},
   "outputs": [],
   "source": [
    "def process_phase_one_sheet(sheetName,speciesName):\n",
    "    df=pd.read_excel(PHASE_ONE,sheet_name=sheetName)\n",
    "    df.columns=map(str.lower,df.columns)\n",
    "    print(\"Original data shape: \",df.shape)\n",
    "    \n",
    "    # Retain required columns\n",
    "    if speciesName=='Parthenium hysterophorus':\n",
    "        df=df[['latitude','longitude','magnitude','presence_absence']]\n",
    "    elif speciesName=='Eichhornia crassipes':\n",
    "        df=df[['x_coordi','y_coordi','magnitude']]\n",
    "        df.columns=['latitude','longitude','magnitude']\n",
    "    else:\n",
    "        df=df[['latitude','longitude','magnitude']]\n",
    "    \n",
    "    # Delete unwanted rows\n",
    "    df=df.drop_duplicates()\n",
    "    df=df[df.latitude!='Absent']\n",
    "    df=df[df.longitude!='Absent']\n",
    "    print(\"After dropping duplicates and extra columns: \",df.shape)\n",
    "    \n",
    "    # Create presence column\n",
    "    df['presence']=False\n",
    "    if speciesName=='Parthenium hysterophorus':\n",
    "        df.loc[df['presence_absence']=='Presence','presence']=True\n",
    "        df=df.drop(['presence_absence'],axis=1)\n",
    "        df.loc[df['magnitude'].isna(),'magnitude']='Not recorded.'\n",
    "    else:\n",
    "        df=df[~df['magnitude'].isna() & ~df['latitude'].isna() & ~df['longitude'].isna()]\n",
    "        df.loc[(df['magnitude']!='Absent') & (df['magnitude']!=''),'presence']=True\n",
    "    \n",
    "    # Summary\n",
    "    print(\"Final number of points: \",df.shape)\n",
    "    df['species']=speciesName\n",
    "    df['phase']=1\n",
    "    print(\"Number of presence points:\",df[df['presence']==True].shape)\n",
    "    print(\"Number of absence points:\",df[df['presence']==False].shape)\n",
    "\n",
    "    return df"
   ]
  },
  {
   "cell_type": "markdown",
   "metadata": {},
   "source": [
    "### Lantana camara"
   ]
  },
  {
   "cell_type": "code",
   "execution_count": 6,
   "metadata": {},
   "outputs": [
    {
     "name": "stdout",
     "output_type": "stream",
     "text": [
      "Original data shape:  (538, 12)\n",
      "After dropping duplicates and extra columns:  (514, 3)\n",
      "Final number of points:  (514, 4)\n",
      "Number of presence points: (183, 6)\n",
      "Number of absence points: (331, 6)\n",
      "After appending to main dataframe:  (514, 6)\n"
     ]
    },
    {
     "name": "stderr",
     "output_type": "stream",
     "text": [
      "//anaconda3/lib/python3.7/site-packages/pandas/core/ops.py:1649: FutureWarning: elementwise comparison failed; returning scalar instead, but in the future will perform elementwise comparison\n",
      "  result = method(y)\n"
     ]
    }
   ],
   "source": [
    "df=process_phase_one_sheet('Lentena','Lantana camara')\n",
    "surveyData=finalize(df,surveyData)\n",
    "# df=pd.read_excel(PHASE_ONE,sheet_name='Lentena')\n",
    "# df.columns=map(str.lower,df.columns)\n",
    "# df['presence']=False\n",
    "# df"
   ]
  },
  {
   "cell_type": "markdown",
   "metadata": {},
   "source": [
    "### Chromolaena odorata"
   ]
  },
  {
   "cell_type": "code",
   "execution_count": 7,
   "metadata": {},
   "outputs": [
    {
     "name": "stdout",
     "output_type": "stream",
     "text": [
      "Original data shape:  (121, 12)\n",
      "After dropping duplicates and extra columns:  (120, 3)\n",
      "Final number of points:  (120, 4)\n",
      "Number of presence points: (120, 6)\n",
      "Number of absence points: (0, 6)\n",
      "After appending to main dataframe:  (634, 6)\n"
     ]
    }
   ],
   "source": [
    "df=process_phase_one_sheet('Chromoleana','Chromolaena odorata')\n",
    "surveyData=finalize(df,surveyData)"
   ]
  },
  {
   "cell_type": "markdown",
   "metadata": {},
   "source": [
    "###  Ipomoea carnea"
   ]
  },
  {
   "cell_type": "code",
   "execution_count": 8,
   "metadata": {},
   "outputs": [
    {
     "name": "stdout",
     "output_type": "stream",
     "text": [
      "Original data shape:  (288, 11)\n",
      "After dropping duplicates and extra columns:  (287, 3)\n",
      "Final number of points:  (286, 4)\n",
      "Number of presence points: (133, 6)\n",
      "Number of absence points: (153, 6)\n",
      "After appending to main dataframe:  (920, 6)\n"
     ]
    }
   ],
   "source": [
    "df=process_phase_one_sheet('Ipomea','Ipomoea carnea')\n",
    "surveyData=finalize(df,surveyData)"
   ]
  },
  {
   "cell_type": "markdown",
   "metadata": {},
   "source": [
    "### Mikania micrantha"
   ]
  },
  {
   "cell_type": "code",
   "execution_count": 9,
   "metadata": {},
   "outputs": [
    {
     "name": "stdout",
     "output_type": "stream",
     "text": [
      "Original data shape:  (116, 12)\n",
      "After dropping duplicates and extra columns:  (116, 3)\n",
      "Final number of points:  (115, 4)\n",
      "Number of presence points: (54, 6)\n",
      "Number of absence points: (61, 6)\n",
      "After appending to main dataframe:  (1035, 6)\n"
     ]
    }
   ],
   "source": [
    "df=process_phase_one_sheet('Mikeniea','Mikania micrantha')\n",
    "surveyData=finalize(df,surveyData)"
   ]
  },
  {
   "cell_type": "markdown",
   "metadata": {},
   "source": [
    "### Ageratina adenophora"
   ]
  },
  {
   "cell_type": "code",
   "execution_count": 10,
   "metadata": {},
   "outputs": [
    {
     "name": "stdout",
     "output_type": "stream",
     "text": [
      "Original data shape:  (543, 11)\n",
      "After dropping duplicates and extra columns:  (521, 3)\n",
      "Final number of points:  (520, 4)\n",
      "Number of presence points: (473, 6)\n",
      "Number of absence points: (47, 6)\n",
      "Errors in 'longitude' [29, 519]\n",
      "85. 0775 Longitude\n",
      "Verifying after making corrections:  []\n",
      "No errors in 'latitude' []\n",
      "Removed 'Not recorded' entries for now.\n",
      "Number of presence points: (117, 6)\n",
      "Number of absence points: (47, 6)\n",
      "After appending to main dataframe:  (1199, 6)\n"
     ]
    }
   ],
   "source": [
    "df=process_phase_one_sheet('Ageratina','Ageratina adenophora')\n",
    "x=df['longitude'].tolist()\n",
    "print(\"Errors in 'longitude'\",[i for i in range(len(x)) if type(x[i])==str])\n",
    "print(x[29],x[519])\n",
    "df.loc[29,'longitude']=85.0775\n",
    "df=df.drop(df.index[519])\n",
    "x=df['longitude'].tolist()\n",
    "print(\"Verifying after making corrections: \",[i for i in range(len(x)) if type(x[i])==str])\n",
    "x=df['latitude'].tolist()\n",
    "print(\"No errors in 'latitude'\",[i for i in range(len(x)) if type(x[i])==str])\n",
    "df=df.astype({'latitude':'float','longitude':'float'})\n",
    "df=df[df['magnitude']!=\"Not recorded\"]\n",
    "print(\"Removed 'Not recorded' entries for now.\")\n",
    "print(\"Number of presence points:\",df[df['presence']==True].shape)\n",
    "print(\"Number of absence points:\",df[df['presence']==False].shape)\n",
    "surveyData=finalize(df,surveyData)"
   ]
  },
  {
   "cell_type": "markdown",
   "metadata": {},
   "source": [
    "### Parthenium hysterophorus"
   ]
  },
  {
   "cell_type": "code",
   "execution_count": 11,
   "metadata": {
    "scrolled": true
   },
   "outputs": [
    {
     "name": "stdout",
     "output_type": "stream",
     "text": [
      "Original data shape:  (380, 12)\n",
      "After dropping duplicates and extra columns:  (335, 4)\n",
      "Final number of points:  (335, 4)\n",
      "Number of presence points: (279, 6)\n",
      "Number of absence points: (56, 6)\n",
      "After appending to main dataframe:  (1534, 6)\n"
     ]
    }
   ],
   "source": [
    "df=process_phase_one_sheet('Parthenium','Parthenium hysterophorus')\n",
    "surveyData=finalize(df,surveyData)\n",
    "# df=pd.read_excel(PHASE_ONE,sheet_name='Parthenium')\n",
    "# df.columns=map(str.lower,df.columns)\n",
    "# df['presence']=False\n",
    "# df.loc[df['presence_absence']=='Presence','presence']=True"
   ]
  },
  {
   "cell_type": "markdown",
   "metadata": {},
   "source": [
    "### Eichhornia crassipes"
   ]
  },
  {
   "cell_type": "code",
   "execution_count": 12,
   "metadata": {},
   "outputs": [
    {
     "name": "stdout",
     "output_type": "stream",
     "text": [
      "Original data shape:  (62, 10)\n",
      "After dropping duplicates and extra columns:  (62, 3)\n",
      "Final number of points:  (51, 4)\n",
      "Number of presence points: (35, 6)\n",
      "Number of absence points: (16, 6)\n",
      "After appending to main dataframe:  (1585, 6)\n"
     ]
    }
   ],
   "source": [
    "df=process_phase_one_sheet('Eichorniea','Eichhornia crassipes')\n",
    "surveyData=finalize(df,surveyData)"
   ]
  },
  {
   "cell_type": "markdown",
   "metadata": {},
   "source": [
    "## Phase 2\n",
    "This is present in a single csv file."
   ]
  },
  {
   "cell_type": "code",
   "execution_count": 13,
   "metadata": {},
   "outputs": [
    {
     "name": "stdout",
     "output_type": "stream",
     "text": [
      "Original data shape (434, 5)\n",
      "After dropping rows with NaNs (431, 5)\n",
      "Number of presence points: (125, 5)\n",
      "Number of absence points: (306, 5)\n",
      "After appending to main dataframe:  (2016, 6)\n"
     ]
    },
    {
     "name": "stderr",
     "output_type": "stream",
     "text": [
      "//anaconda3/lib/python3.7/site-packages/pandas/core/generic.py:5096: SettingWithCopyWarning: \n",
      "A value is trying to be set on a copy of a slice from a DataFrame.\n",
      "Try using .loc[row_indexer,col_indexer] = value instead\n",
      "\n",
      "See the caveats in the documentation: http://pandas.pydata.org/pandas-docs/stable/indexing.html#indexing-view-versus-copy\n",
      "  self[name] = value\n"
     ]
    }
   ],
   "source": [
    "df=pd.read_csv(PHASE_TWO)\n",
    "df=df[['longitude','latitude','Species','Field  Validation status']]\n",
    "df.columns=['longitude','latitude','species','presence']\n",
    "df['presence_new']=False\n",
    "df.loc[df['presence']=='Present','presence_new']=True\n",
    "df=df.drop(['presence'],axis=1)\n",
    "df=df.rename(columns={\"presence_new\":\"presence\"})\n",
    "df['phase']=2\n",
    "df.loc[df.species=='Lantana','species']='Lantana camara'\n",
    "df.loc[df.species=='lantana','species']='Lantana camara'\n",
    "df.loc[df.species=='Chromoleana','species']='Chromolaena odorata'\n",
    "df.loc[df.species=='Ipomea','species']='Ipomoea carnea'\n",
    "df.loc[df.species=='Mikania','species']='Mikania micrantha'\n",
    "df.loc[df.species=='Ageratina','species']='Ageratina adenophora'\n",
    "df.loc[df.species=='parthenium','species']='Parthenium hysterophorus'\n",
    "df.loc[df.species=='Parthenium','species']='Parthenium hysterophorus'\n",
    "dupl=df[df.species=='Parthenium/Lantana']\n",
    "dupl.species='Lantana camara'\n",
    "df.loc[df.species=='Parthenium/Lantana','species']='Parthenium hysterophorus'\n",
    "df=pd.concat([df,dupl],sort=True)\n",
    "\n",
    "# Absent columns\n",
    "dupl=df[(df.species=='Absent') | (df.species=='absent')]\n",
    "for sp in ['Lantana camara','Chromolaena odorata','Ipomoea carnea','Mikania micrantha','Ageratina adenophora','Parthenium hysterophorus']:\n",
    "    duplSp=dupl.copy()\n",
    "    duplSp.species=sp\n",
    "    df=pd.concat([df,duplSp],sort=True)\n",
    "\n",
    "df=df[(df.species!='Absent') & (df.species!='absent')]\n",
    "df.species.unique()\n",
    "print(\"Original data shape\",df.shape)\n",
    "df=df.dropna()\n",
    "print(\"After dropping rows with NaNs\", df.shape)\n",
    "print(\"Number of presence points:\",df[df['presence']==True].shape)\n",
    "print(\"Number of absence points:\",df[df['presence']==False].shape)\n",
    "surveyData=finalize(df,surveyData)"
   ]
  },
  {
   "cell_type": "markdown",
   "metadata": {},
   "source": [
    "## Push to database\n",
    "Assumes that the database has the following table:\n",
    "```\n",
    "CREATE TABLE \"survey\" (\n",
    "\t\"species\"\tTEXT,\n",
    "\t\"latitude\"\tREAL,\n",
    "\t\"longitude\"\tREAL,\n",
    "    \"phase\"\tINTEGER,\n",
    "\t\"presence\"\tINTEGER,\n",
    "\t\"magnitude\"\tTEXT,\n",
    "\tPRIMARY KEY(\"species\",\"latitude\",\"longitude\",\"phase\")\n",
    ");\n",
    "```"
   ]
  },
  {
   "cell_type": "code",
   "execution_count": 14,
   "metadata": {},
   "outputs": [],
   "source": [
    "conn = sqlite3.connect(DB)\n",
    "cur=conn.cursor()\n",
    "cur.execute('CREATE TABLE IF NOT EXISTS \"survey\" ( \\\n",
    "    \"species\"    TEXT, \\\n",
    "    \"latitude\"    REAL, \\\n",
    "    \"longitude\"    REAL, \\\n",
    "    \"phase\"    INTEGER, \\\n",
    "    \"presence\"    INTEGER, \\\n",
    "    \"magnitude\"    TEXT, \\\n",
    "    PRIMARY KEY(\"species\",\"latitude\",\"longitude\",\"phase\") \\\n",
    ");')\n",
    "surveyData.to_sql('temporary_table',conn,if_exists='replace')\n",
    "cur=conn.cursor()\n",
    "cur.execute('INSERT OR REPLACE INTO survey SELECT ' + ','.join(SURVEY_DATA_COLUMNS) + ' FROM temporary_table;')\n",
    "cur.execute('DROP TABLE temporary_table;')\n",
    "conn.commit()\n",
    "conn.close()"
   ]
  },
  {
   "cell_type": "markdown",
   "metadata": {},
   "source": [
    "## Verification\n",
    "### Distinct species list"
   ]
  },
  {
   "cell_type": "code",
   "execution_count": 15,
   "metadata": {},
   "outputs": [
    {
     "data": {
      "text/plain": [
       "[('Ageratina adenophora',),\n",
       " ('Chromolaena odorata',),\n",
       " ('Eichhornia crassipes',),\n",
       " ('Ipomoea carnea',),\n",
       " ('Lantana camara',),\n",
       " ('Mikania micrantha',),\n",
       " ('Parthenium hysterophorus',)]"
      ]
     },
     "execution_count": 15,
     "metadata": {},
     "output_type": "execute_result"
    }
   ],
   "source": [
    "conn = sqlite3.connect(DB)\n",
    "cur=conn.cursor()\n",
    "cur.execute('SELECT DISTINCT species from survey;')\n",
    "cur.fetchall()"
   ]
  },
  {
   "cell_type": "markdown",
   "metadata": {},
   "source": [
    "### Distinct values in 'presence' column"
   ]
  },
  {
   "cell_type": "code",
   "execution_count": 16,
   "metadata": {},
   "outputs": [
    {
     "data": {
      "text/plain": [
       "[(1,), (0,)]"
      ]
     },
     "execution_count": 16,
     "metadata": {},
     "output_type": "execute_result"
    }
   ],
   "source": [
    "cur.execute('SELECT DISTINCT presence from survey;')\n",
    "cur.fetchall()"
   ]
  },
  {
   "cell_type": "markdown",
   "metadata": {},
   "source": [
    "### Distinct values in 'magnitude' column"
   ]
  },
  {
   "cell_type": "code",
   "execution_count": 17,
   "metadata": {},
   "outputs": [
    {
     "data": {
      "text/plain": [
       "[('Low',),\n",
       " ('Moderate',),\n",
       " ('Dense',),\n",
       " ('moderate',),\n",
       " ('Absent',),\n",
       " ('just invaded',),\n",
       " ('low',),\n",
       " ('dense',),\n",
       " ('High',),\n",
       " ('Very high',),\n",
       " ('Not recorded.',),\n",
       " ('absent',),\n",
       " (None,)]"
      ]
     },
     "execution_count": 17,
     "metadata": {},
     "output_type": "execute_result"
    }
   ],
   "source": [
    "cur.execute('SELECT DISTINCT magnitude from survey;')\n",
    "cur.fetchall()"
   ]
  },
  {
   "cell_type": "markdown",
   "metadata": {},
   "source": [
    "### Rows in dataframe and database"
   ]
  },
  {
   "cell_type": "code",
   "execution_count": 18,
   "metadata": {
    "scrolled": true
   },
   "outputs": [
    {
     "name": "stdout",
     "output_type": "stream",
     "text": [
      "Number of rows in database: 1976\n",
      "Number of rows in dataframe: 2016\n"
     ]
    }
   ],
   "source": [
    "cur.execute('SELECT count(*) FROM survey;')\n",
    "numRows=cur.fetchall()\n",
    "print(\"Number of rows in database: %d\" %numRows[0])\n",
    "print(\"Number of rows in dataframe: %d\" %surveyData.shape[0])"
   ]
  },
  {
   "cell_type": "markdown",
   "metadata": {},
   "source": [
    "**Note:** The discrepancy in the number of rows in database and dataframe is because there are rows for which 'magnitude' differs."
   ]
  },
  {
   "cell_type": "markdown",
   "metadata": {},
   "source": [
    "### Checking presence/absence points for each species"
   ]
  },
  {
   "cell_type": "code",
   "execution_count": 19,
   "metadata": {},
   "outputs": [
    {
     "name": "stdout",
     "output_type": "stream",
     "text": [
      "('Ageratina adenophora', 1, 163, 117, 46)\n",
      "('Ageratina adenophora', 2, 41, 0, 41)\n",
      "('Chromolaena odorata', 1, 120, 120, 0)\n",
      "('Chromolaena odorata', 2, 75, 12, 63)\n",
      "('Eichhornia crassipes', 1, 51, 35, 16)\n",
      "('Ipomoea carnea', 1, 286, 133, 153)\n",
      "('Ipomoea carnea', 2, 44, 0, 44)\n",
      "('Lantana camara', 1, 508, 177, 331)\n",
      "('Lantana camara', 2, 147, 106, 41)\n",
      "('Mikania micrantha', 1, 115, 54, 61)\n",
      "('Mikania micrantha', 2, 41, 0, 41)\n",
      "('Parthenium hysterophorus', 1, 302, 246, 56)\n",
      "('Parthenium hysterophorus', 2, 83, 7, 76)\n"
     ]
    }
   ],
   "source": [
    "cur.execute('SELECT species,phase,count(*),sum(presence) AS presence,sum((1-presence)) AS absence FROM survey GROUP BY species,phase;')\n",
    "res=cur.fetchall()\n",
    "for ele in res:\n",
    "    print(ele)"
   ]
  },
  {
   "cell_type": "code",
   "execution_count": 20,
   "metadata": {},
   "outputs": [],
   "source": [
    "conn.close()"
   ]
  }
 ],
 "metadata": {
  "kernelspec": {
   "display_name": "Python 3",
   "language": "python",
   "name": "python3"
  },
  "language_info": {
   "codemirror_mode": {
    "name": "ipython",
    "version": 3
   },
   "file_extension": ".py",
   "mimetype": "text/x-python",
   "name": "python",
   "nbconvert_exporter": "python",
   "pygments_lexer": "ipython3",
   "version": "3.7.3"
  }
 },
 "nbformat": 4,
 "nbformat_minor": 2
}
