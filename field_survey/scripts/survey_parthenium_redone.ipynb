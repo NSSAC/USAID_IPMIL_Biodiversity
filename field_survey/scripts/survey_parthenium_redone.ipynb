{
 "cells": [
  {
   "cell_type": "markdown",
   "metadata": {},
   "source": [
    "# Standardize parthenium survey data for phase 3\n",
    "**Note:** This code results in `../output/survey.sqlite` which should be moved to `$BIODIVERSITY_DATA/survey/` for dependent modules to work.\n",
    "\n",
    "This is about data for parthenium resent by SM on 2021-04-01.\n",
    "In the survey data, we are replacing old phase values for parthenium with a different one (1->11, 2->12, 3-> 13)\n",
    "\n",
    "```\n",
    "update survey set phase=11 where species=\"Parthenium hysterophorus\" and phase=1;\n",
    "```"
   ]
  },
  {
   "cell_type": "code",
   "execution_count": 1,
   "metadata": {},
   "outputs": [],
   "source": [
    "import sqlite3\n",
    "import pandas as pd\n",
    "import numpy as np\n",
    "from pandas import ExcelFile\n",
    "\n",
    "SURVEY_DATA_COLUMNS=['latitude','longitude','magnitude','phase','presence','species']"
   ]
  },
  {
   "cell_type": "markdown",
   "metadata": {},
   "source": [
    "## Input and output"
   ]
  },
  {
   "cell_type": "code",
   "execution_count": 2,
   "metadata": {},
   "outputs": [],
   "source": [
    "#DB='/Users/abhijin/data/Biodiversity/survey/survey.sqlite'\n",
    "DB='../output/survey.sqlite'\n",
    "DATA='/Users/abhijin/github/USAID_IPMIL_Biodiversity/data/field_survey/Parthenium_patchwiseGPS_2021-03-04.xlsx'"
   ]
  },
  {
   "cell_type": "markdown",
   "metadata": {},
   "source": [
    "## Initiating dataframe\n",
    "Mandatory column names for database (more can be added): `index,species,latitude,longitude,presence`"
   ]
  },
  {
   "cell_type": "markdown",
   "metadata": {},
   "source": [
    "## Reading excel sheet\n",
    "Processing one sheet at a time. The below function reads in a sheet and modifies columns.\n",
    "Then, we process each species individually. Note that there are a number of duplicate entries."
   ]
  },
  {
   "cell_type": "code",
   "execution_count": 3,
   "metadata": {},
   "outputs": [],
   "source": [
    "df=[pd.read_excel(DATA,sheet_name='Rasuwa'),\n",
    "    pd.read_excel(DATA,sheet_name='Tanahu_new'),\n",
    "    pd.read_excel(DATA,sheet_name='Makwanpur'),\n",
    "    pd.read_excel(DATA,sheet_name='Tanahu_old'),\n",
    "    pd.read_excel(DATA,sheet_name='Chitwan'),\n",
    "    pd.read_excel(DATA,sheet_name='chitwan_current2')]\n",
    "x=[None]*6"
   ]
  },
  {
   "cell_type": "code",
   "execution_count": 4,
   "metadata": {},
   "outputs": [
    {
     "data": {
      "text/plain": [
       "[None, None, None, None, None, None]"
      ]
     },
     "execution_count": 4,
     "metadata": {},
     "output_type": "execute_result"
    }
   ],
   "source": [
    "x"
   ]
  },
  {
   "cell_type": "code",
   "execution_count": 5,
   "metadata": {},
   "outputs": [
    {
     "data": {
      "text/html": [
       "<div>\n",
       "<style scoped>\n",
       "    .dataframe tbody tr th:only-of-type {\n",
       "        vertical-align: middle;\n",
       "    }\n",
       "\n",
       "    .dataframe tbody tr th {\n",
       "        vertical-align: top;\n",
       "    }\n",
       "\n",
       "    .dataframe thead th {\n",
       "        text-align: right;\n",
       "    }\n",
       "</style>\n",
       "<table border=\"1\" class=\"dataframe\">\n",
       "  <thead>\n",
       "    <tr style=\"text-align: right;\">\n",
       "      <th></th>\n",
       "      <th>latitude</th>\n",
       "      <th>longitude</th>\n",
       "      <th>presence</th>\n",
       "    </tr>\n",
       "  </thead>\n",
       "  <tbody>\n",
       "    <tr>\n",
       "      <th>0</th>\n",
       "      <td>28.255208</td>\n",
       "      <td>85.366606</td>\n",
       "      <td>Present</td>\n",
       "    </tr>\n",
       "    <tr>\n",
       "      <th>1</th>\n",
       "      <td>28.246433</td>\n",
       "      <td>85.363674</td>\n",
       "      <td>Absent</td>\n",
       "    </tr>\n",
       "    <tr>\n",
       "      <th>2</th>\n",
       "      <td>28.244754</td>\n",
       "      <td>85.361251</td>\n",
       "      <td>Absent</td>\n",
       "    </tr>\n",
       "    <tr>\n",
       "      <th>3</th>\n",
       "      <td>28.250513</td>\n",
       "      <td>85.366208</td>\n",
       "      <td>Absent</td>\n",
       "    </tr>\n",
       "    <tr>\n",
       "      <th>4</th>\n",
       "      <td>28.255208</td>\n",
       "      <td>85.366606</td>\n",
       "      <td>Present</td>\n",
       "    </tr>\n",
       "  </tbody>\n",
       "</table>\n",
       "</div>"
      ],
      "text/plain": [
       "    latitude  longitude presence\n",
       "0  28.255208  85.366606  Present\n",
       "1  28.246433  85.363674   Absent\n",
       "2  28.244754  85.361251   Absent\n",
       "3  28.250513  85.366208   Absent\n",
       "4  28.255208  85.366606  Present"
      ]
     },
     "execution_count": 5,
     "metadata": {},
     "output_type": "execute_result"
    }
   ],
   "source": [
    "x[0]=df[0].rename(columns={'Observatio': 'presence'})\n",
    "x[0]=x[0][['latitude','longitude','presence']]\n",
    "x[0].head(5)"
   ]
  },
  {
   "cell_type": "code",
   "execution_count": 6,
   "metadata": {
    "scrolled": true
   },
   "outputs": [
    {
     "data": {
      "text/html": [
       "<div>\n",
       "<style scoped>\n",
       "    .dataframe tbody tr th:only-of-type {\n",
       "        vertical-align: middle;\n",
       "    }\n",
       "\n",
       "    .dataframe tbody tr th {\n",
       "        vertical-align: top;\n",
       "    }\n",
       "\n",
       "    .dataframe thead th {\n",
       "        text-align: right;\n",
       "    }\n",
       "</style>\n",
       "<table border=\"1\" class=\"dataframe\">\n",
       "  <thead>\n",
       "    <tr style=\"text-align: right;\">\n",
       "      <th></th>\n",
       "      <th>latitude</th>\n",
       "      <th>longitude</th>\n",
       "      <th>presence</th>\n",
       "    </tr>\n",
       "  </thead>\n",
       "  <tbody>\n",
       "    <tr>\n",
       "      <th>0</th>\n",
       "      <td>27.977430</td>\n",
       "      <td>84.366231</td>\n",
       "      <td>Present</td>\n",
       "    </tr>\n",
       "    <tr>\n",
       "      <th>1</th>\n",
       "      <td>27.971386</td>\n",
       "      <td>84.367327</td>\n",
       "      <td>Absent</td>\n",
       "    </tr>\n",
       "    <tr>\n",
       "      <th>2</th>\n",
       "      <td>27.969235</td>\n",
       "      <td>84.363981</td>\n",
       "      <td>Absent</td>\n",
       "    </tr>\n",
       "    <tr>\n",
       "      <th>3</th>\n",
       "      <td>27.968700</td>\n",
       "      <td>84.361858</td>\n",
       "      <td>Absent</td>\n",
       "    </tr>\n",
       "    <tr>\n",
       "      <th>4</th>\n",
       "      <td>27.959625</td>\n",
       "      <td>84.358741</td>\n",
       "      <td>Absent</td>\n",
       "    </tr>\n",
       "  </tbody>\n",
       "</table>\n",
       "</div>"
      ],
      "text/plain": [
       "    latitude  longitude presence\n",
       "0  27.977430  84.366231  Present\n",
       "1  27.971386  84.367327   Absent\n",
       "2  27.969235  84.363981   Absent\n",
       "3  27.968700  84.361858   Absent\n",
       "4  27.959625  84.358741   Absent"
      ]
     },
     "execution_count": 6,
     "metadata": {},
     "output_type": "execute_result"
    }
   ],
   "source": [
    "x[1]=df[1].rename(columns={'LONGITUDE': 'longitude', 'LATITUDE': 'latitude','pres_abs': 'presence'})\n",
    "x[1]=x[1][['latitude','longitude','presence']]\n",
    "x[1].head(5)"
   ]
  },
  {
   "cell_type": "code",
   "execution_count": 7,
   "metadata": {},
   "outputs": [
    {
     "data": {
      "text/html": [
       "<div>\n",
       "<style scoped>\n",
       "    .dataframe tbody tr th:only-of-type {\n",
       "        vertical-align: middle;\n",
       "    }\n",
       "\n",
       "    .dataframe tbody tr th {\n",
       "        vertical-align: top;\n",
       "    }\n",
       "\n",
       "    .dataframe thead th {\n",
       "        text-align: right;\n",
       "    }\n",
       "</style>\n",
       "<table border=\"1\" class=\"dataframe\">\n",
       "  <thead>\n",
       "    <tr style=\"text-align: right;\">\n",
       "      <th></th>\n",
       "      <th>latitude</th>\n",
       "      <th>longitude</th>\n",
       "      <th>presence</th>\n",
       "    </tr>\n",
       "  </thead>\n",
       "  <tbody>\n",
       "    <tr>\n",
       "      <th>0</th>\n",
       "      <td>27.41370</td>\n",
       "      <td>85.02850</td>\n",
       "      <td>Present</td>\n",
       "    </tr>\n",
       "    <tr>\n",
       "      <th>1</th>\n",
       "      <td>27.41140</td>\n",
       "      <td>85.02960</td>\n",
       "      <td>Present</td>\n",
       "    </tr>\n",
       "    <tr>\n",
       "      <th>2</th>\n",
       "      <td>27.41140</td>\n",
       "      <td>85.03066</td>\n",
       "      <td>Present</td>\n",
       "    </tr>\n",
       "    <tr>\n",
       "      <th>3</th>\n",
       "      <td>27.41402</td>\n",
       "      <td>85.02682</td>\n",
       "      <td>Present</td>\n",
       "    </tr>\n",
       "    <tr>\n",
       "      <th>4</th>\n",
       "      <td>27.41215</td>\n",
       "      <td>85.03005</td>\n",
       "      <td>Present</td>\n",
       "    </tr>\n",
       "  </tbody>\n",
       "</table>\n",
       "</div>"
      ],
      "text/plain": [
       "   latitude  longitude presence\n",
       "0  27.41370   85.02850  Present\n",
       "1  27.41140   85.02960  Present\n",
       "2  27.41140   85.03066  Present\n",
       "3  27.41402   85.02682  Present\n",
       "4  27.41215   85.03005  Present"
      ]
     },
     "execution_count": 7,
     "metadata": {},
     "output_type": "execute_result"
    }
   ],
   "source": [
    "x[2]=df[2].rename(columns={'Observatio': 'presence'})\n",
    "x[2]=x[2][['latitude','longitude','presence']]\n",
    "x[2].head(5)"
   ]
  },
  {
   "cell_type": "code",
   "execution_count": 8,
   "metadata": {},
   "outputs": [
    {
     "data": {
      "text/html": [
       "<div>\n",
       "<style scoped>\n",
       "    .dataframe tbody tr th:only-of-type {\n",
       "        vertical-align: middle;\n",
       "    }\n",
       "\n",
       "    .dataframe tbody tr th {\n",
       "        vertical-align: top;\n",
       "    }\n",
       "\n",
       "    .dataframe thead th {\n",
       "        text-align: right;\n",
       "    }\n",
       "</style>\n",
       "<table border=\"1\" class=\"dataframe\">\n",
       "  <thead>\n",
       "    <tr style=\"text-align: right;\">\n",
       "      <th></th>\n",
       "      <th>latitude</th>\n",
       "      <th>longitude</th>\n",
       "      <th>presence</th>\n",
       "    </tr>\n",
       "  </thead>\n",
       "  <tbody>\n",
       "    <tr>\n",
       "      <th>0</th>\n",
       "      <td>28.02875</td>\n",
       "      <td>84.08552</td>\n",
       "      <td>Presence</td>\n",
       "    </tr>\n",
       "    <tr>\n",
       "      <th>1</th>\n",
       "      <td>28.02715</td>\n",
       "      <td>84.08625</td>\n",
       "      <td>Presence</td>\n",
       "    </tr>\n",
       "    <tr>\n",
       "      <th>2</th>\n",
       "      <td>28.02702</td>\n",
       "      <td>84.08612</td>\n",
       "      <td>Presence</td>\n",
       "    </tr>\n",
       "    <tr>\n",
       "      <th>3</th>\n",
       "      <td>28.00838</td>\n",
       "      <td>84.08858</td>\n",
       "      <td>Presence</td>\n",
       "    </tr>\n",
       "    <tr>\n",
       "      <th>4</th>\n",
       "      <td>28.00857</td>\n",
       "      <td>84.08859</td>\n",
       "      <td>Presence</td>\n",
       "    </tr>\n",
       "  </tbody>\n",
       "</table>\n",
       "</div>"
      ],
      "text/plain": [
       "   latitude  longitude  presence\n",
       "0  28.02875   84.08552  Presence\n",
       "1  28.02715   84.08625  Presence\n",
       "2  28.02702   84.08612  Presence\n",
       "3  28.00838   84.08858  Presence\n",
       "4  28.00857   84.08859  Presence"
      ]
     },
     "execution_count": 8,
     "metadata": {},
     "output_type": "execute_result"
    }
   ],
   "source": [
    "x[3]=df[3].rename(columns={'presence/absence': 'presence'})\n",
    "x[3]=x[3][['latitude','longitude','presence']]\n",
    "x[3].head(5)"
   ]
  },
  {
   "cell_type": "code",
   "execution_count": 9,
   "metadata": {},
   "outputs": [
    {
     "data": {
      "text/html": [
       "<div>\n",
       "<style scoped>\n",
       "    .dataframe tbody tr th:only-of-type {\n",
       "        vertical-align: middle;\n",
       "    }\n",
       "\n",
       "    .dataframe tbody tr th {\n",
       "        vertical-align: top;\n",
       "    }\n",
       "\n",
       "    .dataframe thead th {\n",
       "        text-align: right;\n",
       "    }\n",
       "</style>\n",
       "<table border=\"1\" class=\"dataframe\">\n",
       "  <thead>\n",
       "    <tr style=\"text-align: right;\">\n",
       "      <th></th>\n",
       "      <th>latitude</th>\n",
       "      <th>longitude</th>\n",
       "      <th>presence</th>\n",
       "    </tr>\n",
       "  </thead>\n",
       "  <tbody>\n",
       "    <tr>\n",
       "      <th>0</th>\n",
       "      <td>27.58898</td>\n",
       "      <td>84.34625</td>\n",
       "      <td>Present</td>\n",
       "    </tr>\n",
       "    <tr>\n",
       "      <th>1</th>\n",
       "      <td>27.58978</td>\n",
       "      <td>84.34734</td>\n",
       "      <td>Present</td>\n",
       "    </tr>\n",
       "    <tr>\n",
       "      <th>2</th>\n",
       "      <td>27.58972</td>\n",
       "      <td>84.34749</td>\n",
       "      <td>Present</td>\n",
       "    </tr>\n",
       "    <tr>\n",
       "      <th>3</th>\n",
       "      <td>27.58948</td>\n",
       "      <td>84.34765</td>\n",
       "      <td>Present</td>\n",
       "    </tr>\n",
       "    <tr>\n",
       "      <th>4</th>\n",
       "      <td>27.58930</td>\n",
       "      <td>84.34700</td>\n",
       "      <td>Present</td>\n",
       "    </tr>\n",
       "  </tbody>\n",
       "</table>\n",
       "</div>"
      ],
      "text/plain": [
       "   latitude  longitude presence\n",
       "0  27.58898   84.34625  Present\n",
       "1  27.58978   84.34734  Present\n",
       "2  27.58972   84.34749  Present\n",
       "3  27.58948   84.34765  Present\n",
       "4  27.58930   84.34700  Present"
      ]
     },
     "execution_count": 9,
     "metadata": {},
     "output_type": "execute_result"
    }
   ],
   "source": [
    "x[4]=df[4].rename(columns={'Observatio': 'presence'})\n",
    "x[4]=x[4][['latitude','longitude','presence']]\n",
    "x[4].head(5)"
   ]
  },
  {
   "cell_type": "code",
   "execution_count": 10,
   "metadata": {},
   "outputs": [
    {
     "data": {
      "text/html": [
       "<div>\n",
       "<style scoped>\n",
       "    .dataframe tbody tr th:only-of-type {\n",
       "        vertical-align: middle;\n",
       "    }\n",
       "\n",
       "    .dataframe tbody tr th {\n",
       "        vertical-align: top;\n",
       "    }\n",
       "\n",
       "    .dataframe thead th {\n",
       "        text-align: right;\n",
       "    }\n",
       "</style>\n",
       "<table border=\"1\" class=\"dataframe\">\n",
       "  <thead>\n",
       "    <tr style=\"text-align: right;\">\n",
       "      <th></th>\n",
       "      <th>latitude</th>\n",
       "      <th>longitude</th>\n",
       "      <th>presence</th>\n",
       "    </tr>\n",
       "  </thead>\n",
       "  <tbody>\n",
       "    <tr>\n",
       "      <th>0</th>\n",
       "      <td>27.877316</td>\n",
       "      <td>84.587634</td>\n",
       "      <td>Present</td>\n",
       "    </tr>\n",
       "    <tr>\n",
       "      <th>1</th>\n",
       "      <td>27.873375</td>\n",
       "      <td>84.600521</td>\n",
       "      <td>Present</td>\n",
       "    </tr>\n",
       "    <tr>\n",
       "      <th>2</th>\n",
       "      <td>27.858690</td>\n",
       "      <td>84.569050</td>\n",
       "      <td>Present</td>\n",
       "    </tr>\n",
       "    <tr>\n",
       "      <th>3</th>\n",
       "      <td>27.858930</td>\n",
       "      <td>84.569630</td>\n",
       "      <td>Present</td>\n",
       "    </tr>\n",
       "    <tr>\n",
       "      <th>4</th>\n",
       "      <td>27.863355</td>\n",
       "      <td>84.577010</td>\n",
       "      <td>Present</td>\n",
       "    </tr>\n",
       "  </tbody>\n",
       "</table>\n",
       "</div>"
      ],
      "text/plain": [
       "    latitude  longitude presence\n",
       "0  27.877316  84.587634  Present\n",
       "1  27.873375  84.600521  Present\n",
       "2  27.858690  84.569050  Present\n",
       "3  27.858930  84.569630  Present\n",
       "4  27.863355  84.577010  Present"
      ]
     },
     "execution_count": 10,
     "metadata": {},
     "output_type": "execute_result"
    }
   ],
   "source": [
    "x[5]=df[5].rename(columns={'Observatio': 'presence'})\n",
    "x[5]=x[5][['latitude','longitude','presence']]\n",
    "x[5].head(5)"
   ]
  },
  {
   "cell_type": "markdown",
   "metadata": {},
   "source": [
    "## Append all and create the table"
   ]
  },
  {
   "cell_type": "code",
   "execution_count": 11,
   "metadata": {},
   "outputs": [
    {
     "data": {
      "text/plain": [
       "1299"
      ]
     },
     "execution_count": 11,
     "metadata": {},
     "output_type": "execute_result"
    }
   ],
   "source": [
    "surveyData=pd.concat(x)\n",
    "surveyData.size"
   ]
  },
  {
   "cell_type": "code",
   "execution_count": 12,
   "metadata": {},
   "outputs": [
    {
     "data": {
      "text/plain": [
       "(383, 3)"
      ]
     },
     "execution_count": 12,
     "metadata": {},
     "output_type": "execute_result"
    }
   ],
   "source": [
    "# checking for duplicates. lots of them\n",
    "y=surveyData.groupby(['latitude','longitude']).head(1)\n",
    "y.shape"
   ]
  },
  {
   "cell_type": "code",
   "execution_count": 13,
   "metadata": {},
   "outputs": [],
   "source": [
    "surveyData=y\n",
    "surveyData['species']='Parthenium hysterophorus'\n",
    "surveyData['phase']=3\n",
    "surveyData['magnitude']=0\n",
    "surveyData.loc[surveyData.presence=='Present','presence']=1\n",
    "surveyData.loc[surveyData.presence=='Presence','presence']=1\n",
    "surveyData.loc[surveyData.presence=='Absent','presence']=0\n",
    "surveyData.loc[surveyData.presence=='Absence','presence']=0\n",
    "surveyData.presence=surveyData.presence.astype(int)"
   ]
  },
  {
   "cell_type": "code",
   "execution_count": 14,
   "metadata": {},
   "outputs": [
    {
     "data": {
      "text/plain": [
       "latitude     float64\n",
       "longitude    float64\n",
       "presence       int64\n",
       "species       object\n",
       "phase          int64\n",
       "magnitude      int64\n",
       "dtype: object"
      ]
     },
     "execution_count": 14,
     "metadata": {},
     "output_type": "execute_result"
    }
   ],
   "source": [
    "surveyData.dtypes"
   ]
  },
  {
   "cell_type": "markdown",
   "metadata": {},
   "source": [
    "## Push to database\n",
    "Assumes that the database has the following table:\n",
    "```\n",
    "CREATE TABLE \"survey\" (\n",
    "\t\"species\"\tTEXT,\n",
    "\t\"latitude\"\tREAL,\n",
    "\t\"longitude\"\tREAL,\n",
    "    \"phase\"\tINTEGER,\n",
    "\t\"presence\"\tINTEGER,\n",
    "\t\"magnitude\"\tTEXT,\n",
    "\tPRIMARY KEY(\"species\",\"latitude\",\"longitude\",\"phase\")\n",
    ");\n",
    "```"
   ]
  },
  {
   "cell_type": "code",
   "execution_count": 15,
   "metadata": {},
   "outputs": [],
   "source": [
    "conn = sqlite3.connect(DB)\n",
    "cur=conn.cursor()\n",
    "cur.execute('CREATE TABLE IF NOT EXISTS \"survey\" ( \\\n",
    "    \"species\"    TEXT, \\\n",
    "    \"latitude\"    REAL, \\\n",
    "    \"longitude\"    REAL, \\\n",
    "    \"phase\"    INTEGER, \\\n",
    "    \"presence\"    INTEGER, \\\n",
    "    \"magnitude\"    TEXT, \\\n",
    "    PRIMARY KEY(\"species\",\"latitude\",\"longitude\",\"phase\") \\\n",
    ");')\n",
    "surveyData[SURVEY_DATA_COLUMNS].to_sql('temporary_table',conn,if_exists='replace')"
   ]
  },
  {
   "cell_type": "code",
   "execution_count": 16,
   "metadata": {},
   "outputs": [],
   "source": [
    "cur.execute('INSERT OR REPLACE INTO survey SELECT ' + ','.join(SURVEY_DATA_COLUMNS) + ' FROM temporary_table;')\n",
    "cur.execute('DROP TABLE temporary_table;')\n",
    "conn.commit()\n",
    "conn.close()"
   ]
  }
 ],
 "metadata": {
  "kernelspec": {
   "display_name": "Python 3",
   "language": "python",
   "name": "python3"
  },
  "language_info": {
   "codemirror_mode": {
    "name": "ipython",
    "version": 3
   },
   "file_extension": ".py",
   "mimetype": "text/x-python",
   "name": "python",
   "nbconvert_exporter": "python",
   "pygments_lexer": "ipython3",
   "version": "3.8.3"
  }
 },
 "nbformat": 4,
 "nbformat_minor": 2
}
