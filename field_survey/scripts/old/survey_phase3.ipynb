{
 "cells": [
  {
   "cell_type": "markdown",
   "metadata": {},
   "source": [
    "# Standardize survey data for phase 3\n",
    "**Note:** This code results in `../output/survey.sqlite` which should be moved to `$BIODIVERSITY_DATA/survey/` for dependent modules to work."
   ]
  },
  {
   "cell_type": "code",
   "execution_count": 1,
   "metadata": {},
   "outputs": [],
   "source": [
    "import sqlite3\n",
    "import pandas as pd\n",
    "import numpy as np\n",
    "from pandas import ExcelFile\n",
    "\n",
    "SURVEY_DATA_COLUMNS=['species','latitude','longitude','phase','presence','magnitude']"
   ]
  },
  {
   "cell_type": "markdown",
   "metadata": {},
   "source": [
    "## Input and output"
   ]
  },
  {
   "cell_type": "code",
   "execution_count": 2,
   "metadata": {},
   "outputs": [],
   "source": [
    "DB='../output/survey.sqlite'\n",
    "PHASE_THREE='../../data/field_survey/field_report_2020-01-03_phase3.xlsx'"
   ]
  },
  {
   "cell_type": "markdown",
   "metadata": {},
   "source": [
    "## Initiating dataframe\n",
    "Mandatory column names for database (more can be added): `index,species,latitude,longitude,presence`"
   ]
  },
  {
   "cell_type": "code",
   "execution_count": 3,
   "metadata": {},
   "outputs": [],
   "source": [
    "surveyData=pd.DataFrame(columns=SURVEY_DATA_COLUMNS)"
   ]
  },
  {
   "cell_type": "markdown",
   "metadata": {},
   "source": [
    "The function `finalize()` below performs final cleaning up and appending to main dataframe."
   ]
  },
  {
   "cell_type": "code",
   "execution_count": 4,
   "metadata": {},
   "outputs": [],
   "source": [
    "def finalize(df,surveyData):\n",
    "    # Verification\n",
    "    if df['latitude'].dtype!='float':\n",
    "        raise TypeError(\"Column 'latitude' should be float.\")\n",
    "    elif df['longitude'].dtype!='float':\n",
    "        raise TypeError(\"Column 'longitude' should be float.\")\n",
    "\n",
    "    surveyData=pd.concat([surveyData,df],sort=True)\n",
    "    print(\"After appending to main dataframe: \",surveyData.shape)\n",
    "    print(\"Species:\",surveyData.species.unique())\n",
    "    return surveyData"
   ]
  },
  {
   "cell_type": "markdown",
   "metadata": {},
   "source": [
    "## Reading excel sheet\n",
    "Processing one sheet at a time. The below function reads in a sheet and modifies columns.\n",
    "Then, we process each species individually. Note that there are a number of duplicate entries."
   ]
  },
  {
   "cell_type": "markdown",
   "metadata": {},
   "source": [
    "### Majimtar"
   ]
  },
  {
   "cell_type": "code",
   "execution_count": 5,
   "metadata": {},
   "outputs": [
    {
     "name": "stdout",
     "output_type": "stream",
     "text": [
      "After appending to main dataframe:  (42, 6)\n",
      "Species: ['Mikania micrantha' 'Chromolaena odorata' 'Lantana camara']\n"
     ]
    }
   ],
   "source": [
    "df=pd.read_excel(PHASE_THREE,sheet_name='majimtar')\n",
    "df=df.drop(['Species','Unnamed: 2','ns1:ele','ns1:name', 'Magnitude'],axis=1)\n",
    "df=df.rename(columns={'Species.1': 'species', 'lat': 'latitude', 'lon': 'longitude'})\n",
    "df=df.dropna()\n",
    "df.loc[(df.species=='mikania'),'species']='Mikania micrantha'\n",
    "df.loc[(df.species=='chromoleana'),'species']='Chromolaena odorata'\n",
    "df.loc[(df.species=='lantana'),'species']='Lantana camara'\n",
    "df=df.append(df[df.species=='c/m'],ignore_index=True)\n",
    "df['presence']=1\n",
    "df.loc[[41],'species']='Chromolaena odorata'\n",
    "df.loc[[8],'species']='Mikania micrantha'\n",
    "surveyData=finalize(df,surveyData)"
   ]
  },
  {
   "cell_type": "markdown",
   "metadata": {},
   "source": [
    "### Muglin-Tanahu"
   ]
  },
  {
   "cell_type": "code",
   "execution_count": 6,
   "metadata": {},
   "outputs": [
    {
     "name": "stdout",
     "output_type": "stream",
     "text": [
      "After appending to main dataframe:  (87, 6)\n",
      "Species: ['Mikania micrantha' 'Chromolaena odorata' 'Lantana camara']\n"
     ]
    }
   ],
   "source": [
    "df=pd.read_excel(PHASE_THREE,sheet_name='muglin_tanahun')\n",
    "df=df.drop(['elevation','magnitude'],axis=1)\n",
    "df=df.rename(columns={'Species': 'species', 'lat': 'latitude', 'long': 'longitude'})\n",
    "df=df.dropna()\n",
    "\n",
    "df.loc[(df.species=='mikania'),'species']='Mikania micrantha'\n",
    "df.loc[(df.species=='chromoleana'),'species']='Chromolaena odorata'\n",
    "df.loc[(df.species=='lantana'),'species']='Lantana camara'\n",
    "\n",
    "df=df.append(df[df.species=='mikania/ch'],ignore_index=True)\n",
    "df=df.append(df[df.species=='lantana/mikania'],ignore_index=True)\n",
    "\n",
    "df.loc[[7,8,9],'species']='Chromolaena odorata'\n",
    "df.loc[[37],'species']='Lantana camara'\n",
    "df.loc[[41,42,43,44],'species']='Mikania micrantha'\n",
    "\n",
    "df['presence']=1\n",
    "\n",
    "surveyData=finalize(df,surveyData)"
   ]
  },
  {
   "cell_type": "markdown",
   "metadata": {},
   "source": [
    "###  Gorkha"
   ]
  },
  {
   "cell_type": "code",
   "execution_count": 7,
   "metadata": {},
   "outputs": [
    {
     "name": "stdout",
     "output_type": "stream",
     "text": [
      "After appending to main dataframe:  (96, 6)\n",
      "Species: ['Mikania micrantha' 'Chromolaena odorata' 'Lantana camara']\n"
     ]
    }
   ],
   "source": [
    "df=pd.read_excel(PHASE_THREE,sheet_name='Gorkha')\n",
    "df=df.drop(['Unnamed: 1','Unnamed: 5','Elevation','Magnitude'],axis=1)\n",
    "df=df.rename(columns={'Species': 'species', 'Lat': 'latitude', 'Long': 'longitude'})\n",
    "df=df.dropna()\n",
    "\n",
    "df.loc[(df.species=='Chromoleana'),'species']='Chromolaena odorata'\n",
    "\n",
    "df['presence']=1\n",
    "\n",
    "surveyData=finalize(df,surveyData)"
   ]
  },
  {
   "cell_type": "markdown",
   "metadata": {},
   "source": [
    "### Tanahu"
   ]
  },
  {
   "cell_type": "code",
   "execution_count": 8,
   "metadata": {},
   "outputs": [
    {
     "name": "stdout",
     "output_type": "stream",
     "text": [
      "After appending to main dataframe:  (167, 6)\n",
      "Species: ['Mikania micrantha' 'Chromolaena odorata' 'Lantana camara']\n"
     ]
    }
   ],
   "source": [
    "df=pd.read_excel(PHASE_THREE,sheet_name='Tanahun')\n",
    "df=df.drop(['Elevation','Magnirude','Location'],axis=1)\n",
    "df=df.rename(columns={'aSpecies': 'species', 'Lat': 'latitude', 'Long': 'longitude'})\n",
    "df=df.dropna()\n",
    "\n",
    "df.loc[(df.species=='mikania'),'species']='Mikania micrantha'\n",
    "df.loc[(df.species=='chromoleana'),'species']='Chromolaena odorata'\n",
    "df.loc[(df.species=='Lantana'),'species']='Lantana camara'\n",
    "\n",
    "df=df.append(df[df.species=='l/c'],ignore_index=True)\n",
    "df.loc[[52],'species']='Chromolaena odorata'\n",
    "df.loc[[70],'species']='Lantana camara'\n",
    "\n",
    "df['presence']=1\n",
    "\n",
    "df.species.unique()\n",
    "\n",
    "surveyData=finalize(df,surveyData)"
   ]
  },
  {
   "cell_type": "markdown",
   "metadata": {},
   "source": [
    "### Kaski syangja"
   ]
  },
  {
   "cell_type": "code",
   "execution_count": 9,
   "metadata": {},
   "outputs": [
    {
     "name": "stdout",
     "output_type": "stream",
     "text": [
      "After appending to main dataframe:  (262, 6)\n",
      "Species: ['Mikania micrantha' 'Chromolaena odorata' 'Lantana camara'\n",
      " 'Eichhornia crassipes' 'Ipomoea carnea' 'Ageratina adenophora']\n"
     ]
    }
   ],
   "source": [
    "df=pd.read_excel(PHASE_THREE,sheet_name='Kaski syangja')\n",
    "\n",
    "df=df.drop(['elevation','magnitude','location '],axis=1)\n",
    "df=df.rename(columns={'Species': 'species', 'Lat': 'latitude'})\n",
    "df=df.dropna()\n",
    "\n",
    "df.loc[(df.species=='mikania'),'species']='Mikania micrantha'\n",
    "df.loc[(df.species=='chromoleana'),'species']='Chromolaena odorata'\n",
    "df.loc[(df.species=='lantana'),'species']='Lantana camara'\n",
    "df.loc[(df.species=='eichornia'),'species']='Eichhornia crassipes'\n",
    "df.loc[(df.species=='Eichornia'),'species']='Eichhornia crassipes'\n",
    "df.loc[(df.species=='Ipomea'),'species']='Ipomoea carnea'\n",
    "df.loc[(df.species=='ipomea'),'species']='Ipomoea carnea'\n",
    "df.loc[(df.species=='Ageratina'),'species']='Ageratina adenophora'\n",
    "df.loc[(df.species=='ageratina'),'species']='Ageratina adenophora'\n",
    "\n",
    "df['presence']=1\n",
    "\n",
    "surveyData=finalize(df,surveyData)"
   ]
  },
  {
   "cell_type": "markdown",
   "metadata": {},
   "source": [
    "### Nawalparasi"
   ]
  },
  {
   "cell_type": "code",
   "execution_count": 10,
   "metadata": {},
   "outputs": [
    {
     "name": "stdout",
     "output_type": "stream",
     "text": [
      "After appending to main dataframe:  (403, 6)\n",
      "Species: ['Mikania micrantha' 'Chromolaena odorata' 'Lantana camara'\n",
      " 'Eichhornia crassipes' 'Ipomoea carnea' 'Ageratina adenophora'\n",
      " 'Parthenium hysterophorus']\n"
     ]
    }
   ],
   "source": [
    "df=pd.read_excel(PHASE_THREE,sheet_name='Nawalparasi')\n",
    "\n",
    "df=df.drop(['elevation','Unnamed: 1','Unnamed: 5'],axis=1)\n",
    "df=df.rename(columns={'Species': 'species', 'lat': 'latitude', 'long': 'longitude'})\n",
    "df=df.dropna()\n",
    "\n",
    "df.loc[(df.species=='mikania'),'species']='Mikania micrantha'\n",
    "df.loc[(df.species=='chromoleana'),'species']='Chromolaena odorata'\n",
    "df.loc[(df.species=='lantana'),'species']='Lantana camara'\n",
    "df.loc[(df.species=='eichornia'),'species']='Eichhornia crassipes'\n",
    "df.loc[(df.species=='Eichornia'),'species']='Eichhornia crassipes'\n",
    "df.loc[(df.species=='Ipomea'),'species']='Ipomoea carnea'\n",
    "df.loc[(df.species=='ipomea'),'species']='Ipomoea carnea'\n",
    "df.loc[(df.species=='Ageratina'),'species']='Ageratina adenophora'\n",
    "df.loc[(df.species=='ageratina'),'species']='Ageratina adenophora'\n",
    "df.loc[(df.species=='parthenium'),'species']='Parthenium hysterophorus'\n",
    "\n",
    "df['presence']=1\n",
    "\n",
    "surveyData=finalize(df,surveyData)"
   ]
  },
  {
   "cell_type": "markdown",
   "metadata": {},
   "source": [
    "### Chitwan makwanpur"
   ]
  },
  {
   "cell_type": "code",
   "execution_count": 11,
   "metadata": {},
   "outputs": [
    {
     "name": "stdout",
     "output_type": "stream",
     "text": [
      "After appending to main dataframe:  (579, 6)\n",
      "Species: ['Mikania micrantha' 'Chromolaena odorata' 'Lantana camara'\n",
      " 'Eichhornia crassipes' 'Ipomoea carnea' 'Ageratina adenophora'\n",
      " 'Parthenium hysterophorus']\n"
     ]
    }
   ],
   "source": [
    "df=pd.read_excel(PHASE_THREE,sheet_name='Chitwan makwanpur')\n",
    "\n",
    "df=df.drop(['elevation','Magnitude','Unnamed: 5'],axis=1)\n",
    "df=df.rename(columns={'Species': 'species', 'lat': 'latitude', 'long': 'longitude'})\n",
    "df=df[(df.species!='Species')]\n",
    "\n",
    "df=df.astype({'latitude': float, 'longitude': float})\n",
    "df=df.dropna()\n",
    "\n",
    "df.loc[(df.species=='mikania'),'species']='Mikania micrantha'\n",
    "df.loc[(df.species=='chromoleana'),'species']='Chromolaena odorata'\n",
    "df.loc[(df.species=='lantana'),'species']='Lantana camara'\n",
    "df.loc[(df.species=='eichornia'),'species']='Eichhornia crassipes'\n",
    "df.loc[(df.species=='Eichornia'),'species']='Eichhornia crassipes'\n",
    "df.loc[(df.species=='Ipomea'),'species']='Ipomoea carnea'\n",
    "df.loc[(df.species=='ipomea'),'species']='Ipomoea carnea'\n",
    "df.loc[(df.species=='Ageratina'),'species']='Ageratina adenophora'\n",
    "df.loc[(df.species=='ageratina'),'species']='Ageratina adenophora'\n",
    "df.loc[(df.species=='parthenium'),'species']='Parthenium hysterophorus'\n",
    "\n",
    "df['presence']=1\n",
    "\n",
    "surveyData=finalize(df,surveyData)"
   ]
  },
  {
   "cell_type": "markdown",
   "metadata": {},
   "source": [
    "## Push to database\n",
    "Assumes that the database has the following table:\n",
    "```\n",
    "CREATE TABLE \"survey\" (\n",
    "\t\"species\"\tTEXT,\n",
    "\t\"latitude\"\tREAL,\n",
    "\t\"longitude\"\tREAL,\n",
    "    \"phase\"\tINTEGER,\n",
    "\t\"presence\"\tINTEGER,\n",
    "\t\"magnitude\"\tTEXT,\n",
    "\tPRIMARY KEY(\"species\",\"latitude\",\"longitude\",\"phase\")\n",
    ");\n",
    "```"
   ]
  },
  {
   "cell_type": "code",
   "execution_count": 12,
   "metadata": {},
   "outputs": [],
   "source": [
    "surveyData['phase']=3\n",
    "conn = sqlite3.connect(DB)\n",
    "cur=conn.cursor()\n",
    "cur.execute('CREATE TABLE IF NOT EXISTS \"survey\" ( \\\n",
    "    \"species\"    TEXT, \\\n",
    "    \"latitude\"    REAL, \\\n",
    "    \"longitude\"    REAL, \\\n",
    "    \"phase\"    INTEGER, \\\n",
    "    \"presence\"    INTEGER, \\\n",
    "    \"magnitude\"    TEXT, \\\n",
    "    PRIMARY KEY(\"species\",\"latitude\",\"longitude\",\"phase\") \\\n",
    ");')\n",
    "surveyData.to_sql('temporary_table',conn,if_exists='replace')\n",
    "cur=conn.cursor()\n",
    "cur.execute('INSERT OR REPLACE INTO survey SELECT ' + ','.join(SURVEY_DATA_COLUMNS) + ' FROM temporary_table;')\n",
    "cur.execute('DROP TABLE temporary_table;')\n",
    "conn.commit()\n",
    "conn.close()"
   ]
  },
  {
   "cell_type": "markdown",
   "metadata": {},
   "source": [
    "## Verification\n",
    "### Distinct species list"
   ]
  },
  {
   "cell_type": "code",
   "execution_count": 13,
   "metadata": {},
   "outputs": [
    {
     "data": {
      "text/plain": [
       "[('Ageratina adenophora',),\n",
       " ('Chromolaena odorata',),\n",
       " ('Eichhornia crassipes',),\n",
       " ('Ipomoea carnea',),\n",
       " ('Lantana camara',),\n",
       " ('Mikania micrantha',),\n",
       " ('Parthenium hysterophorus',)]"
      ]
     },
     "execution_count": 13,
     "metadata": {},
     "output_type": "execute_result"
    }
   ],
   "source": [
    "conn = sqlite3.connect(DB)\n",
    "cur=conn.cursor()\n",
    "cur.execute('SELECT DISTINCT species from survey;')\n",
    "cur.fetchall()"
   ]
  },
  {
   "cell_type": "markdown",
   "metadata": {},
   "source": [
    "### Distinct values in 'presence' column"
   ]
  },
  {
   "cell_type": "code",
   "execution_count": 14,
   "metadata": {},
   "outputs": [
    {
     "data": {
      "text/plain": [
       "[(1,), (0,)]"
      ]
     },
     "execution_count": 14,
     "metadata": {},
     "output_type": "execute_result"
    }
   ],
   "source": [
    "cur.execute('SELECT DISTINCT presence from survey;')\n",
    "cur.fetchall()"
   ]
  },
  {
   "cell_type": "markdown",
   "metadata": {},
   "source": [
    "### Distinct values in 'magnitude' column"
   ]
  },
  {
   "cell_type": "code",
   "execution_count": 15,
   "metadata": {},
   "outputs": [
    {
     "data": {
      "text/plain": [
       "[('Low',),\n",
       " ('Moderate',),\n",
       " ('Dense',),\n",
       " ('moderate',),\n",
       " ('Absent',),\n",
       " ('just invaded',),\n",
       " ('low',),\n",
       " ('dense',),\n",
       " ('Not recorded',),\n",
       " ('High',),\n",
       " ('Very high',),\n",
       " ('Not recorded.',),\n",
       " ('absent',),\n",
       " (None,)]"
      ]
     },
     "execution_count": 15,
     "metadata": {},
     "output_type": "execute_result"
    }
   ],
   "source": [
    "cur.execute('SELECT DISTINCT magnitude from survey;')\n",
    "cur.fetchall()"
   ]
  },
  {
   "cell_type": "markdown",
   "metadata": {},
   "source": [
    "### Rows in dataframe and database"
   ]
  },
  {
   "cell_type": "code",
   "execution_count": 16,
   "metadata": {
    "scrolled": true
   },
   "outputs": [
    {
     "name": "stdout",
     "output_type": "stream",
     "text": [
      "Number of rows in database: 2894\n",
      "Number of rows in dataframe: 579\n"
     ]
    }
   ],
   "source": [
    "cur.execute('SELECT count(*) FROM survey;')\n",
    "numRows=cur.fetchall()\n",
    "print(\"Number of rows in database: %d\" %numRows[0])\n",
    "print(\"Number of rows in dataframe: %d\" %surveyData.shape[0])"
   ]
  },
  {
   "cell_type": "markdown",
   "metadata": {},
   "source": [
    "### Checking presence/absence points for each species"
   ]
  },
  {
   "cell_type": "code",
   "execution_count": 17,
   "metadata": {},
   "outputs": [
    {
     "name": "stdout",
     "output_type": "stream",
     "text": [
      "('Ageratina adenophora', 1, 503, 102, 401)\n",
      "('Ageratina adenophora', 2, 41, 0, 41)\n",
      "('Ageratina adenophora', 3, 9, 9, 0)\n",
      "('Chromolaena odorata', 1, 120, 120, 0)\n",
      "('Chromolaena odorata', 2, 75, 12, 63)\n",
      "('Chromolaena odorata', 3, 228, 228, 0)\n",
      "('Eichhornia crassipes', 1, 51, 35, 16)\n",
      "('Eichhornia crassipes', 3, 7, 7, 0)\n",
      "('Ipomoea carnea', 1, 286, 133, 153)\n",
      "('Ipomoea carnea', 2, 44, 0, 44)\n",
      "('Ipomoea carnea', 3, 20, 20, 0)\n",
      "('Lantana camara', 1, 508, 177, 331)\n",
      "('Lantana camara', 2, 147, 106, 41)\n",
      "('Lantana camara', 3, 172, 172, 0)\n",
      "('Mikania micrantha', 1, 115, 54, 61)\n",
      "('Mikania micrantha', 2, 41, 0, 41)\n",
      "('Mikania micrantha', 3, 138, 138, 0)\n",
      "('Parthenium hysterophorus', 1, 302, 246, 56)\n",
      "('Parthenium hysterophorus', 2, 83, 7, 76)\n",
      "('Parthenium hysterophorus', 3, 4, 4, 0)\n"
     ]
    }
   ],
   "source": [
    "cur.execute('SELECT species,phase,count(*),sum(presence) AS presence,sum((1-presence)) AS absence FROM survey GROUP BY species,phase;')\n",
    "res=cur.fetchall()\n",
    "for ele in res:\n",
    "    print(ele)"
   ]
  },
  {
   "cell_type": "code",
   "execution_count": 18,
   "metadata": {},
   "outputs": [],
   "source": [
    "conn.close()"
   ]
  }
 ],
 "metadata": {
  "kernelspec": {
   "display_name": "Python 3",
   "language": "python",
   "name": "python3"
  },
  "language_info": {
   "codemirror_mode": {
    "name": "ipython",
    "version": 3
   },
   "file_extension": ".py",
   "mimetype": "text/x-python",
   "name": "python",
   "nbconvert_exporter": "python",
   "pygments_lexer": "ipython3",
   "version": "3.7.3"
  }
 },
 "nbformat": 4,
 "nbformat_minor": 2
}
